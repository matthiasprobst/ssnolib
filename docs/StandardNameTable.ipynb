{
 "cells": [
  {
   "cell_type": "markdown",
   "id": "9329f864-d401-4ae2-a5ae-697f7629a54d",
   "metadata": {},
   "source": [
    "# Standard Name Table\n",
    "\n",
    "A so-called \"standard name table\" defines \"standard names\", which is a concept used by the [CF Convention](https://cfconventions.org/).\n",
    "\n",
    "Those standard names are used to define the meaning of a numerical variable in files (typically netCDF4 files).\n",
    "\n",
    "With this library, we can describe a standard name table using JSON-LD. **Note**, that only a simplified version of the original CF Conventions is modelled!\n",
    "\n",
    "This notebook walks you through the main steps of building such a table yourself using Python:"
   ]
  },
  {
   "cell_type": "code",
   "execution_count": 1,
   "id": "d8f1bebc-629e-4fd4-8cbd-0b50d733d71d",
   "metadata": {},
   "outputs": [],
   "source": [
    "import ssnolib\n",
    "from ssnolib.namespace import SSNO\n",
    "from ssnolib.prov import Person, Organization, Attribution\n",
    "from ontolutils.namespacelib.m4i import M4I"
   ]
  },
  {
   "cell_type": "markdown",
   "id": "1a5b6be1-fe93-4071-8ffa-421495b2d4ad",
   "metadata": {},
   "source": [
    "Let's start by instantiate a table. We add a title and one or multiple associated \"agents\", which can be persons or organizations:"
   ]
  },
  {
   "cell_type": "code",
   "execution_count": 2,
   "id": "c3f81b35-9d4c-40af-aecf-a18f3d199ab8",
   "metadata": {},
   "outputs": [],
   "source": [
    "# Create to \"Agents\", which are Persons in this case:\n",
    "agent1 = ssnolib.Person(\n",
    "    firstName=\"Matthias\",\n",
    "    lastName=\"Probst\",\n",
    "    orcidId=\"https://orcid.org/0000-0001-8729-0482\",\n",
    "    id=\"https://orcid.org/0000-0001-8729-0482\"\n",
    ")\n",
    "# Agent 2 is affiliated with an organization:\n",
    "orga1 = ssnolib.Organization(name=\"Awesome Institute\")\n",
    "agent2 = ssnolib.Person(\n",
    "    firstName=\"John\",\n",
    "    lastName=\"Doe\",\n",
    "    mbox=\"john@doe.com\",\n",
    "    affiliation=orga1\n",
    ")\n",
    "\n",
    "# instantiate the table:\n",
    "snt = ssnolib.StandardNameTable(\n",
    "    title='SNT from scratch',\n",
    "    description=\"A table defined as part of a tutorial\",\n",
    "    version='v1',\n",
    "    qualifiedAttribution=[\n",
    "        Attribution(agent=agent1, hadRole=M4I.ContactPerson),\n",
    "        Attribution(agent=agent2, hadRole=M4I.Supervisor),\n",
    "        Attribution(agent=orga1)\n",
    "    ]\n",
    ")"
   ]
  },
  {
   "cell_type": "code",
   "execution_count": 3,
   "id": "ce695180-c392-40f7-b091-127db525d7bc",
   "metadata": {},
   "outputs": [
    {
     "data": {
      "text/plain": [
       "WindowsPath('tmp/SNT from scratch.html')"
      ]
     },
     "execution_count": 3,
     "metadata": {},
     "output_type": "execute_result"
    }
   ],
   "source": [
    "snt.to_html(folder=\"tmp\")"
   ]
  },
  {
   "cell_type": "code",
   "execution_count": 4,
   "id": "5ad73b1b-1737-466c-a3df-e0286926a581",
   "metadata": {},
   "outputs": [
    {
     "name": "stdout",
     "output_type": "stream",
     "text": [
      "{\n",
      "    \"@context\": {\n",
      "        \"owl\": \"http://www.w3.org/2002/07/owl#\",\n",
      "        \"rdfs\": \"http://www.w3.org/2000/01/rdf-schema#\",\n",
      "        \"dcat\": \"http://www.w3.org/ns/dcat#\",\n",
      "        \"dcterms\": \"http://purl.org/dc/terms/\",\n",
      "        \"prov\": \"http://www.w3.org/ns/prov#\",\n",
      "        \"ssno\": \"https://matthiasprobst.github.io/ssno#\",\n",
      "        \"foaf\": \"http://xmlns.com/foaf/0.1/\",\n",
      "        \"m4i\": \"http://w3id.org/nfdi4ing/metadata4ing#\",\n",
      "        \"schema\": \"https://schema.org/\"\n",
      "    },\n",
      "    \"@type\": \"ssno:StandardNameTable\",\n",
      "    \"dcterms:title\": \"SNT from scratch\",\n",
      "    \"dcterms:description\": \"A table defined as part of a tutorial\",\n",
      "    \"dcat:version\": \"v1\",\n",
      "    \"prov:qualifiedAttribution\": [\n",
      "        {\n",
      "            \"@type\": \"prov:Attribution\",\n",
      "            \"prov:agent\": {\n",
      "                \"@type\": \"prov:Person\",\n",
      "                \"foaf:firstName\": \"Matthias\",\n",
      "                \"foaf:lastName\": \"Probst\",\n",
      "                \"m4i:orcidId\": \"https://orcid.org/0000-0001-8729-0482\",\n",
      "                \"@id\": \"https://orcid.org/0000-0001-8729-0482\"\n",
      "            },\n",
      "            \"prov:hadRole\": \"http://w3id.org/nfdi4ing/metadata4ing#ContactPerson\",\n",
      "            \"@id\": \"_:N69297147ecdf4d8e9bd5a80100196902\"\n",
      "        },\n",
      "        {\n",
      "            \"@type\": \"prov:Attribution\",\n",
      "            \"prov:agent\": {\n",
      "                \"@type\": \"prov:Person\",\n",
      "                \"foaf:mbox\": \"john@doe.com\",\n",
      "                \"foaf:firstName\": \"John\",\n",
      "                \"foaf:lastName\": \"Doe\",\n",
      "                \"schema:affiliation\": {\n",
      "                    \"@type\": \"prov:Organization\",\n",
      "                    \"foaf:name\": \"Awesome Institute\",\n",
      "                    \"@id\": \"_:N09876f0affe1429cade41c17bd23ddfc\"\n",
      "                },\n",
      "                \"@id\": \"_:Neea28225096b4a4ca062c6b1c8dc1a07\"\n",
      "            },\n",
      "            \"prov:hadRole\": \"http://w3id.org/nfdi4ing/metadata4ing#Supervisor\",\n",
      "            \"@id\": \"_:Nee64e1e67aba4049940d5a885d91b334\"\n",
      "        },\n",
      "        {\n",
      "            \"@type\": \"prov:Attribution\",\n",
      "            \"prov:agent\": {\n",
      "                \"@type\": \"prov:Organization\",\n",
      "                \"foaf:name\": \"Awesome Institute\",\n",
      "                \"@id\": \"_:N09876f0affe1429cade41c17bd23ddfc\"\n",
      "            },\n",
      "            \"@id\": \"_:N6216ad96f597456ea4c002d5a450d879\"\n",
      "        }\n",
      "    ],\n",
      "    \"ssno:standardNames\": [],\n",
      "    \"@id\": \"_:N9fd8b5ba31ed44e79059f3fee57abe82\"\n",
      "}\n"
     ]
    }
   ],
   "source": [
    "print(snt.model_dump_jsonld())"
   ]
  },
  {
   "cell_type": "markdown",
   "id": "b259d9ba-73f8-4571-ab83-9f5b507d8397",
   "metadata": {},
   "source": [
    "Let's add some standard names to the table:"
   ]
  },
  {
   "cell_type": "code",
   "execution_count": 5,
   "id": "76576ec4-3c04-4493-a513-08cc4effe3b6",
   "metadata": {},
   "outputs": [],
   "source": [
    "snt.standardNames = [\n",
    "    ssnolib.StandardName(\n",
    "        standard_name=\"air_density\",\n",
    "        description=\"The density of air\",\n",
    "        unit=\"kg/m^3\"\n",
    "    ),\n",
    "    ssnolib.StandardName(\n",
    "        standard_name=\"coordinate\",\n",
    "        description=\"The spatial coordinate vector.\",\n",
    "        unit=\"m\"\n",
    "    ),\n",
    "    ssnolib.StandardName(\n",
    "        standard_name=\"velocity\",\n",
    "        description=\"The velocity vector of an object or fluid.\",\n",
    "        unit=\"m/s\"\n",
    "    )\n",
    "]"
   ]
  },
  {
   "cell_type": "markdown",
   "id": "e9ce3e58-7a7f-4dab-96c0-039086bc44d8",
   "metadata": {},
   "source": [
    "So far we only have two standard names. We can define modification rules, to build new, verified standard names. For example, \"x_velocity\" would be a reasonable new standard name for the table.\n",
    "\n",
    "So let's define such a modification rule. We call it a `Qualification`. The one we would like to define should be used directly of an already existing standard name, e.g. \"SSNO:AnyStandardName\":"
   ]
  },
  {
   "cell_type": "code",
   "execution_count": 6,
   "id": "b5446a1a-e9d1-4ae4-9bd3-6b740fb8b0e2",
   "metadata": {},
   "outputs": [
    {
     "name": "stdout",
     "output_type": "stream",
     "text": [
      "associatedWith: https://matthiasprobst.github.io/ssno#AnyStandardName\n",
      "associatedWith: _:Nda94fb0ff9aa48b4b1f72a52c868acbe\n"
     ]
    }
   ],
   "source": [
    "component = ssnolib.VectorQualification(\n",
    "    name=\"component\",\n",
    "    hasValidValues=[\"x\", \"y\", \"z\"],\n",
    "    description=\"The component of a vector\",\n",
    "    before=SSNO.AnyStandardName\n",
    ")\n",
    "\n",
    "transformation = ssnolib.Transformation(\n",
    "    name=\"C_derivative_of_X\",\n",
    "    description=\"derivative of X with respect to distance in the component direction, which may be x, y or z.\",\n",
    "    altersUnit=\"[X]/[C]\",\n",
    "    hasCharacter=[\n",
    "        ssnolib.Character(character=\"X\", associatedWith=SSNO.AnyStandardName),\n",
    "        ssnolib.Character(character=\"C\", associatedWith=component.id),\n",
    "    ]\n",
    ")"
   ]
  },
  {
   "cell_type": "markdown",
   "id": "9098b634-0627-440a-b0bf-6eb8bb31ef35",
   "metadata": {},
   "source": [
    "Add it to the SNT:"
   ]
  },
  {
   "cell_type": "code",
   "execution_count": 7,
   "id": "e1e2f9db-38fd-4849-85eb-c7240841e90f",
   "metadata": {},
   "outputs": [],
   "source": [
    "snt.hasModifier = [component, transformation]"
   ]
  },
  {
   "cell_type": "markdown",
   "id": "ab5cfa34-1d85-414f-9fc7-c13751e3144e",
   "metadata": {},
   "source": [
    "We can check standard name strings, whether they apply to the modification rule:"
   ]
  },
  {
   "cell_type": "code",
   "execution_count": 8,
   "id": "5908af8b-eff9-4b3f-9f6f-2baac1a979b9",
   "metadata": {},
   "outputs": [
    {
     "data": {
      "text/plain": [
       "False"
      ]
     },
     "execution_count": 8,
     "metadata": {},
     "output_type": "execute_result"
    }
   ],
   "source": [
    "snt.verify_name(\"vertical_velocity\")"
   ]
  },
  {
   "cell_type": "code",
   "execution_count": 9,
   "id": "b9288dcb-0d49-481c-8e2d-f2d76df4d58a",
   "metadata": {},
   "outputs": [
    {
     "data": {
      "text/plain": [
       "False"
      ]
     },
     "execution_count": 9,
     "metadata": {},
     "output_type": "execute_result"
    }
   ],
   "source": [
    "snt.verify_name(\"x_velocity\")"
   ]
  },
  {
   "cell_type": "code",
   "execution_count": 10,
   "id": "73012529-4f91-497b-925e-a2c5cd013299",
   "metadata": {},
   "outputs": [
    {
     "data": {
      "text/plain": [
       "False"
      ]
     },
     "execution_count": 10,
     "metadata": {},
     "output_type": "execute_result"
    }
   ],
   "source": [
    "snt.verify_name(\"x_component\")"
   ]
  },
  {
   "cell_type": "markdown",
   "id": "a469096c-4c8a-4586-a359-a058c3ee0c6b",
   "metadata": {},
   "source": [
    "Also, adding new standard names can go through a verification:"
   ]
  },
  {
   "cell_type": "code",
   "execution_count": 11,
   "id": "581313cc-247b-423b-8615-ad16998cbf82",
   "metadata": {},
   "outputs": [],
   "source": [
    "#snt.add_new_standard_name(\"x_coordinate\", verify=True) # verify=False will just add the standard name and interpret it as a core standard name"
   ]
  },
  {
   "cell_type": "markdown",
   "id": "5ace0482-51d0-4fd6-8aec-9cbcfe69ff1e",
   "metadata": {},
   "source": [
    "## Export standard name tables\n",
    "We can export to JSON-LD and also generate an HTML file:"
   ]
  },
  {
   "cell_type": "markdown",
   "id": "940f3b10-0650-4661-a58c-ce3a4aad5fc8",
   "metadata": {},
   "source": [
    "Export the current version of the standard name table to JSON-LD:"
   ]
  },
  {
   "cell_type": "code",
   "execution_count": 12,
   "id": "170087ca-fcfe-41c4-bcac-a985571fbc4f",
   "metadata": {
    "scrolled": true
   },
   "outputs": [
    {
     "name": "stdout",
     "output_type": "stream",
     "text": [
      "{\n",
      "    \"@context\": {\n",
      "        \"owl\": \"http://www.w3.org/2002/07/owl#\",\n",
      "        \"rdfs\": \"http://www.w3.org/2000/01/rdf-schema#\",\n",
      "        \"dcat\": \"http://www.w3.org/ns/dcat#\",\n",
      "        \"dcterms\": \"http://purl.org/dc/terms/\",\n",
      "        \"prov\": \"http://www.w3.org/ns/prov#\",\n",
      "        \"ssno\": \"https://matthiasprobst.github.io/ssno#\",\n",
      "        \"foaf\": \"http://xmlns.com/foaf/0.1/\",\n",
      "        \"m4i\": \"http://w3id.org/nfdi4ing/metadata4ing#\",\n",
      "        \"schema\": \"http://schema.org/\",\n",
      "        \"skos\": \"http://www.w3.org/2004/02/skos/core#\"\n",
      "    },\n",
      "    \"@type\": \"ssno:StandardNameTable\",\n",
      "    \"dcterms:title\": \"SNT from scratch\",\n",
      "    \"dcterms:description\": \"A table defined as part of a tutorial\",\n",
      "    \"dcat:version\": \"v1\",\n",
      "    \"prov:qualifiedAttribution\": [\n",
      "        {\n",
      "            \"@type\": \"prov:Attribution\",\n",
      "            \"prov:agent\": {\n",
      "                \"@type\": \"prov:Person\",\n",
      "                \"foaf:firstName\": \"Matthias\",\n",
      "                \"foaf:lastName\": \"Probst\",\n",
      "                \"m4i:orcidId\": \"https://orcid.org/0000-0001-8729-0482\",\n",
      "                \"@id\": \"https://orcid.org/0000-0001-8729-0482\"\n",
      "            },\n",
      "            \"prov:hadRole\": \"http://w3id.org/nfdi4ing/metadata4ing#ContactPerson\",\n",
      "            \"@id\": \"_:N69297147ecdf4d8e9bd5a80100196902\"\n",
      "        },\n",
      "        {\n",
      "            \"@type\": \"prov:Attribution\",\n",
      "            \"prov:agent\": {\n",
      "                \"@type\": \"prov:Person\",\n",
      "                \"foaf:mbox\": \"john@doe.com\",\n",
      "                \"foaf:firstName\": \"John\",\n",
      "                \"foaf:lastName\": \"Doe\",\n",
      "                \"schema:affiliation\": {\n",
      "                    \"@type\": \"prov:Organization\",\n",
      "                    \"foaf:name\": \"Awesome Institute\",\n",
      "                    \"@id\": \"_:N09876f0affe1429cade41c17bd23ddfc\"\n",
      "                },\n",
      "                \"@id\": \"_:Neea28225096b4a4ca062c6b1c8dc1a07\"\n",
      "            },\n",
      "            \"prov:hadRole\": \"http://w3id.org/nfdi4ing/metadata4ing#Supervisor\",\n",
      "            \"@id\": \"_:Nee64e1e67aba4049940d5a885d91b334\"\n",
      "        },\n",
      "        {\n",
      "            \"@type\": \"prov:Attribution\",\n",
      "            \"prov:agent\": {\n",
      "                \"@type\": \"prov:Organization\",\n",
      "                \"foaf:name\": \"Awesome Institute\",\n",
      "                \"@id\": \"_:N09876f0affe1429cade41c17bd23ddfc\"\n",
      "            },\n",
      "            \"@id\": \"_:N6216ad96f597456ea4c002d5a450d879\"\n",
      "        }\n",
      "    ],\n",
      "    \"ssno:standardNames\": [\n",
      "        {\n",
      "            \"@type\": \"ssno:StandardName\",\n",
      "            \"ssno:standardName\": \"air_density\",\n",
      "            \"ssno:unit\": \"http://qudt.org/vocab/unit/KiloGM-PER-M3\",\n",
      "            \"ssno:description\": \"The density of air\",\n",
      "            \"@id\": \"_:Ndca9312625184f0f86a1d2369f66628c\"\n",
      "        },\n",
      "        {\n",
      "            \"@type\": \"ssno:StandardName\",\n",
      "            \"ssno:standardName\": \"coordinate\",\n",
      "            \"ssno:unit\": \"http://qudt.org/vocab/unit/M\",\n",
      "            \"ssno:description\": \"The spatial coordinate vector.\",\n",
      "            \"@id\": \"_:N382fc2c7f1004945a898cf6ff54dacba\"\n",
      "        },\n",
      "        {\n",
      "            \"@type\": \"ssno:StandardName\",\n",
      "            \"ssno:standardName\": \"velocity\",\n",
      "            \"ssno:unit\": \"http://qudt.org/vocab/unit/M-PER-SEC\",\n",
      "            \"ssno:description\": \"The velocity vector of an object or fluid.\",\n",
      "            \"@id\": \"_:Nde62f1047d2c4d628e05ebce5caf239f\"\n",
      "        }\n",
      "    ],\n",
      "    \"ssno:hasModifier\": [\n",
      "        {\n",
      "            \"@type\": \"ssno:VectorQualification\",\n",
      "            \"schema:name\": \"component\",\n",
      "            \"dcterms:description\": \"The component of a vector\",\n",
      "            \"ssno:before\": \"https://matthiasprobst.github.io/ssno#AnyStandardName\",\n",
      "            \"ssno:hasValidValues\": [\n",
      "                {\n",
      "                    \"@type\": \"m4i:TextVariable\",\n",
      "                    \"m4i:hasStringValue\": \"x\",\n",
      "                    \"m4i:hasVariableDescription\": \"No description available.\",\n",
      "                    \"@id\": \"_:Nd47d46f413c24c408728bafa6a89c209\"\n",
      "                },\n",
      "                {\n",
      "                    \"@type\": \"m4i:TextVariable\",\n",
      "                    \"m4i:hasStringValue\": \"y\",\n",
      "                    \"m4i:hasVariableDescription\": \"No description available.\",\n",
      "                    \"@id\": \"_:N9e57f44fbea74210ae4fd4072b4d0ea2\"\n",
      "                },\n",
      "                {\n",
      "                    \"@type\": \"m4i:TextVariable\",\n",
      "                    \"m4i:hasStringValue\": \"z\",\n",
      "                    \"m4i:hasVariableDescription\": \"No description available.\",\n",
      "                    \"@id\": \"_:N2a32f9f879754a3f8c88fec2f0efc6d7\"\n",
      "                }\n",
      "            ],\n",
      "            \"@id\": \"_:Nda94fb0ff9aa48b4b1f72a52c868acbe\"\n",
      "        },\n",
      "        {\n",
      "            \"@type\": \"ssno:Transformation\",\n",
      "            \"schema:name\": \"C_derivative_of_X\",\n",
      "            \"dcterms:description\": \"derivative of X with respect to distance in the component direction, which may be x, y or z.\",\n",
      "            \"ssno:altersUnit\": \"[X]/[C]\",\n",
      "            \"ssno:hasCharacter\": [\n",
      "                {\n",
      "                    \"@type\": \"ssno:Character\",\n",
      "                    \"ssno:character\": \"X\",\n",
      "                    \"ssno:associatedWith\": \"https://matthiasprobst.github.io/ssno#AnyStandardName\",\n",
      "                    \"@id\": \"_:N3a49e3c1f18a47239621e50e8e116702\"\n",
      "                },\n",
      "                {\n",
      "                    \"@type\": \"ssno:Character\",\n",
      "                    \"ssno:character\": \"C\",\n",
      "                    \"ssno:associatedWith\": \"_:Nda94fb0ff9aa48b4b1f72a52c868acbe\",\n",
      "                    \"@id\": \"_:Nfe4781d2a2764710b065853357cceaef\"\n",
      "                }\n",
      "            ],\n",
      "            \"@id\": \"_:Na88e8f94cc984bfa97e7125ae77f198d\"\n",
      "        }\n",
      "    ],\n",
      "    \"@id\": \"_:N9fd8b5ba31ed44e79059f3fee57abe82\"\n",
      "}\n"
     ]
    }
   ],
   "source": [
    "print(snt.model_dump_jsonld())"
   ]
  },
  {
   "cell_type": "markdown",
   "id": "c83dbbc4-2b7f-4bc0-87d8-ec856480dcb6",
   "metadata": {},
   "source": [
    "Write the HTML file:"
   ]
  },
  {
   "cell_type": "code",
   "execution_count": 13,
   "id": "65cfef36-9919-404a-8bd0-3a4b09c7d386",
   "metadata": {},
   "outputs": [
    {
     "data": {
      "text/plain": [
       "WindowsPath('tmp/SNT from scratch.html')"
      ]
     },
     "execution_count": 13,
     "metadata": {},
     "output_type": "execute_result"
    }
   ],
   "source": [
    "snt.to_html(folder=\"tmp\")"
   ]
  },
  {
   "cell_type": "code",
   "execution_count": 14,
   "id": "4028ba08-35d1-4d16-a09c-ab50230e4232",
   "metadata": {},
   "outputs": [],
   "source": [
    "with open(f\"tmp/{snt.title}.jsonld\", \"w\", encoding=\"utf-8\") as f:\n",
    "    f.write(snt.model_dump_jsonld())"
   ]
  },
  {
   "cell_type": "code",
   "execution_count": 15,
   "id": "28ef615c-303f-463d-b2ff-6846197e0cd3",
   "metadata": {},
   "outputs": [
    {
     "name": "stdout",
     "output_type": "stream",
     "text": [
      "associatedWith: _:Nda94fb0ff9aa48b4b1f72a52c868acbe\n",
      "associatedWith: https://matthiasprobst.github.io/ssno#AnyStandardName\n",
      "associatedWith: _:Nda94fb0ff9aa48b4b1f72a52c868acbe\n",
      "associatedWith: https://matthiasprobst.github.io/ssno#AnyStandardName\n"
     ]
    }
   ],
   "source": [
    "sntLoaded = ssnolib.StandardNameTable.parse(f\"tmp/{snt.title}.jsonld\")"
   ]
  },
  {
   "cell_type": "code",
   "execution_count": 16,
   "id": "f107cfe2-2a09-4d51-b9a3-de7d3377f04f",
   "metadata": {},
   "outputs": [
    {
     "data": {
      "text/plain": [
       "{'id': '_:N26deef80df6149efbd218d50e0425570',\n",
       " 'firstName': 'Matthias',\n",
       " 'lastName': 'Probst',\n",
       " 'orcidId': 'https://orcid.org/0000-0001-8729-0482',\n",
       " '@id': 'https://orcid.org/0000-0001-8729-0482',\n",
       " '@type': 'http://www.w3.org/ns/prov#Person'}"
      ]
     },
     "execution_count": 16,
     "metadata": {},
     "output_type": "execute_result"
    }
   ],
   "source": [
    "sntLoaded.qualifiedAttribution[0].agent.model_dump(exclude_none=True)"
   ]
  },
  {
   "cell_type": "code",
   "execution_count": 17,
   "id": "bd80a819-4804-4d2c-9340-aa7679fb56a2",
   "metadata": {},
   "outputs": [
    {
     "data": {
      "text/plain": [
       "[Qualification(id=_:Ne07b5072d5734daead8043b03cbf29e0, name=component, description=The component of a vector, before=https://matthiasprobst.github.io/ssno#AnyStandardName, hasValidValues=[TextVariable(id=_:N5b7bd6fa2ba64be3b79dbf7bd772535d, hasStringValue=x, hasVariableDescription=No description available., type=http://w3id.org/nfdi4ing/metadata4ing#TextVariable), TextVariable(id=_:Na6d16ea41e624dbb9770c9e8e12a62cb, hasStringValue=z, hasVariableDescription=No description available., type=http://w3id.org/nfdi4ing/metadata4ing#TextVariable), TextVariable(id=_:Nb5978a7734b84d539bfdf68f8f7982c7, hasStringValue=y, hasVariableDescription=No description available., type=http://w3id.org/nfdi4ing/metadata4ing#TextVariable)], type=https://matthiasprobst.github.io/ssno#VectorQualification),\n",
       " Transformation(id=_:N9d9c806655f248ac86b95b0d23739560, name=C_derivative_of_X, description=derivative of X with respect to distance in the component direction, which may be x, y or z., altersUnit=[X]/[C], hasCharacter=[Character(id=_:Nac86e7948c43403a87dbf7531cb1140d, character=C, associatedWith=_:Nda94fb0ff9aa48b4b1f72a52c868acbe, type=https://matthiasprobst.github.io/ssno#Character), Character(id=_:N8df881d3daa34937aa9686aace5b6dbd, character=X, associatedWith=https://matthiasprobst.github.io/ssno#AnyStandardName, type=https://matthiasprobst.github.io/ssno#Character)], type=https://matthiasprobst.github.io/ssno#Transformation)]"
      ]
     },
     "execution_count": 17,
     "metadata": {},
     "output_type": "execute_result"
    }
   ],
   "source": [
    "sntLoaded.hasModifier"
   ]
  },
  {
   "cell_type": "markdown",
   "id": "a0011edc-9e69-4334-9414-4f2cbe95c270",
   "metadata": {},
   "source": [
    "## From online resource\n",
    "\n",
    "Let's pare the CF Convention, which is the model role for the library: [CF Convention table](http://cfconventions.org/Data/cf-standard-names/current/src/cf-standard-name-table.xml)"
   ]
  },
  {
   "cell_type": "code",
   "execution_count": 18,
   "id": "6d155de4-2837-4406-8f98-fb7fac2f223e",
   "metadata": {},
   "outputs": [],
   "source": [
    "distribution = ssnolib.dcat.Distribution(\n",
    "    title='XML Table',\n",
    "    download_URL='http://cfconventions.org/Data/cf-standard-names/current/src/cf-standard-name-table.xml',\n",
    "    media_type='application/xml'\n",
    ")"
   ]
  },
  {
   "cell_type": "code",
   "execution_count": 19,
   "id": "39d16382-09b5-4f30-8472-f0b9479ee433",
   "metadata": {},
   "outputs": [],
   "source": [
    "snt = ssnolib.StandardNameTable(\n",
    "    title='CF Standard Name Table (latest version)',\n",
    "    distribution=distribution\n",
    ")"
   ]
  },
  {
   "cell_type": "code",
   "execution_count": 20,
   "id": "46b362ae-add6-49a3-97f5-0989a3391379",
   "metadata": {},
   "outputs": [
    {
     "name": "stdout",
     "output_type": "stream",
     "text": [
      "{\n",
      "    \"@context\": {\n",
      "        \"owl\": \"http://www.w3.org/2002/07/owl#\",\n",
      "        \"rdfs\": \"http://www.w3.org/2000/01/rdf-schema#\",\n",
      "        \"dcat\": \"http://www.w3.org/ns/dcat#\",\n",
      "        \"dcterms\": \"http://purl.org/dc/terms/\",\n",
      "        \"prov\": \"http://www.w3.org/ns/prov#\",\n",
      "        \"ssno\": \"https://matthiasprobst.github.io/ssno#\"\n",
      "    },\n",
      "    \"@type\": \"ssno:StandardNameTable\",\n",
      "    \"dcterms:title\": \"CF Standard Name Table (latest version)\",\n",
      "    \"dcat:distribution\": [\n",
      "        {\n",
      "            \"@type\": \"dcat:Distribution\",\n",
      "            \"dcterms:title\": \"XML Table\",\n",
      "            \"dcat:downloadURL\": \"http://cfconventions.org/Data/cf-standard-names/current/src/cf-standard-name-table.xml\",\n",
      "            \"dcat:mediaType\": \"https://www.iana.org/assignments/media-types/application/xml\",\n",
      "            \"@id\": \"_:N9369a34b820e4a29bfd5cd27aee04c65\"\n",
      "        }\n",
      "    ],\n",
      "    \"ssno:standardNames\": [],\n",
      "    \"@id\": \"_:N89e617606c72415cad236d504d47a99c\"\n",
      "}\n"
     ]
    }
   ],
   "source": [
    "print(snt.model_dump_jsonld())"
   ]
  },
  {
   "cell_type": "markdown",
   "id": "6e341d8c-1ed8-441a-8c8d-68a5aad77e8e",
   "metadata": {},
   "source": [
    "Maybe we would like to get all the standard names. We can do this by calling `fetch()` or instantiate the standard name table using `parse()`:"
   ]
  },
  {
   "cell_type": "code",
   "execution_count": 21,
   "id": "4fb565a5-b3ad-4b07-9c30-fba828c299c5",
   "metadata": {},
   "outputs": [],
   "source": [
    "from ontolutils import QUDT_UNIT\n",
    "\n",
    "additional_qudts = {\n",
    "    # other:\n",
    "    'kg m-1 s-1': QUDT_UNIT.KiloGM_PER_M_SEC,\n",
    "    'm-2 s-1': QUDT_UNIT.M2_PER_SEC,\n",
    "    'K s': QUDT_UNIT.K_SEC,\n",
    "    'W s m-2': QUDT_UNIT.W_SEC_PER_M2,\n",
    "    'N m-1': QUDT_UNIT.N_PER_M,\n",
    "    'mol mol-1': QUDT_UNIT.MOL_PER_MOL,\n",
    "    'mol/mol': QUDT_UNIT.MOL_PER_MOL,\n",
    "    'm4 s-1': QUDT_UNIT.M4_PER_SEC,\n",
    "    'K Pa s-1': QUDT_UNIT.K_PA_PER_SEC,\n",
    "    'Pa m s-1': QUDT_UNIT.PA_M_PER_SEC,\n",
    "    'radian': QUDT_UNIT.RAD,\n",
    "    'degree s-1': QUDT_UNIT.DEG_PER_SEC,\n",
    "    'Pa m s-2': QUDT_UNIT.PA_M_PER_SEC2,\n",
    "    'sr': QUDT_UNIT.SR,\n",
    "    'sr-1': QUDT_UNIT.PER_SR,\n",
    "    'm year-1': QUDT_UNIT.M_PER_YR,\n",
    "    'mol m-2 s-1 sr-1': QUDT_UNIT.MOL_PER_M2_SEC_SR,\n",
    "    'mol m-2 s-1 m-1 sr-1': QUDT_UNIT.MOL_PER_M2_SEC_M_SR,\n",
    "    'Pa-1 s-1': QUDT_UNIT.PA_PER_SEC,\n",
    "    'm-1 s-1': QUDT_UNIT.PER_M_SEC,\n",
    "    'm2 s rad-1': QUDT_UNIT.M2_SEC_PER_RAD,\n",
    "    'W/m2': QUDT_UNIT.W_PER_M2,\n",
    "    'dbar': QUDT_UNIT.DeciBAR\n",
    "}"
   ]
  },
  {
   "cell_type": "code",
   "execution_count": 22,
   "id": "ff06ea2d-e511-44c1-85a6-21867fed16f3",
   "metadata": {
    "scrolled": true
   },
   "outputs": [
    {
     "name": "stderr",
     "output_type": "stream",
     "text": [
      "C:\\Users\\matth\\Documents\\GitHub\\ssnolib\\ssnolib\\standard_name_table.py:410: UserWarning: Could not parse {'standardName': 'change_over_time_in_sea_water_salinity', 'unit': '1e-3', 'description': '\"change_over_time_in_X\" means change in a quantity X over a time-interval, which should be defined by the bounds of the time coordinate. Sea water salinity is the salt content of sea water, often on the Practical Salinity Scale of 1978. However, the unqualified term \\'salinity\\' is generic and does not necessarily imply any particular method of calculation. The units of salinity are dimensionless and the units attribute should normally be given as 1e-3 or 0.001 i.e. parts per thousand. There are standard names for the more precisely defined salinity quantities: sea_water_knudsen_salinity, S_K (used for salinity observations between 1901 and 1966), sea_water_cox_salinity, S_C (used for salinity observations between 1967 and 1977), sea_water_practical_salinity, S_P (used for salinity observations from 1978 to the present day), sea_water_absolute_salinity, S_A, sea_water_preformed_salinity, S_*, and sea_water_reference_salinity. Practical Salinity is reported on the Practical Salinity Scale of 1978 (PSS-78), and is usually based on the electrical conductivity of sea water in observations since the 1960s. Conversion of data between the observed scales follows: S_P = (S_K - 0.03) * (1.80655 / 1.805) and S_P = S_C, however the accuracy of the latter is dependent on whether chlorinity or conductivity was used to determine the S_C value, with this inconsistency driving the development of PSS-78. The more precise standard names should be used where appropriate for both modelled and observed salinities. In particular, the use of sea_water_salinity to describe salinity observations made from 1978 onwards is now deprecated in favor of the term sea_water_practical_salinity which is the salinity quantity stored by national data centers for post-1978 observations. The only exception to this is where the observed salinities are definitely known not to be recorded on the Practical Salinity Scale. The unit \"parts per thousand\" was used for sea_water_knudsen_salinity and sea_water_cox_salinity.'}. 1 validation error for StandardName\n",
      "unit.unit\n",
      "  Value error, your_message Unable to parse: \"1e-3\" of standard name \"change_over_time_in_sea_water_salinity\" [type=value_error, input_value='1e-3', input_type=str]\n",
      "    For further information visit https://errors.pydantic.dev/2.7/v/value_error\n",
      "  warnings.warn(f\"Could not parse {sn}. {e}\", UserWarning)\n",
      "C:\\Users\\matth\\Documents\\GitHub\\ssnolib\\ssnolib\\standard_name_table.py:410: UserWarning: Could not parse {'standardName': 'deployment_latitude', 'unit': 'degree_north', 'description': 'The latitude of deployment of a station or instrument. The term can be used whenever the deployment position of a station or instrument needs to be supplied along with other types of positions. If a data variable has only one latitude coordinate variable, the standard name of latitude should generally be preferred to deployment_latitude, because latitude is recognised by generic software. If the deployment latitude is also the nominal latitude for a discrete geometry (as in Section 9.5 of the CF convention), the deployment latitude should also, or instead, be recorded in a coordinate variable with the standard name of latitude and axis=\"Y\". Latitude is positive northward; its units of \"degree_north\" (or equivalent) indicate this explicitly.'}. 1 validation error for StandardName\n",
      "unit.unit\n",
      "  Value error, your_message Unable to parse: \"degree_north\" of standard name \"deployment_latitude\" [type=value_error, input_value='degree_north', input_type=str]\n",
      "    For further information visit https://errors.pydantic.dev/2.7/v/value_error\n",
      "  warnings.warn(f\"Could not parse {sn}. {e}\", UserWarning)\n",
      "C:\\Users\\matth\\Documents\\GitHub\\ssnolib\\ssnolib\\standard_name_table.py:410: UserWarning: Could not parse {'standardName': 'deployment_longitude', 'unit': 'degree_east', 'description': 'The longitude of deployment of a station or instrument. The term can be used whenever the deployment position of a station or instrument needs to be supplied along with other types of positions. If a data variable has only one longitude coordinate variable, the standard name of longitude should generally be preferred to deployment_longitude, because longitude is recognised by generic software. If the deployment longitude is also the nominal longitude for a discrete geometry (as in Section 9.5 of the CF convention), the deployment longitude should also, or instead, be recorded in a coordinate variable with the standard name of longitude and axis=\"X\". Longitude is positive eastward; its units of \"degree_east\" (or equivalent) indicate this explicitly.'}. 1 validation error for StandardName\n",
      "unit.unit\n",
      "  Value error, your_message Unable to parse: \"degree_east\" of standard name \"deployment_longitude\" [type=value_error, input_value='degree_east', input_type=str]\n",
      "    For further information visit https://errors.pydantic.dev/2.7/v/value_error\n",
      "  warnings.warn(f\"Could not parse {sn}. {e}\", UserWarning)\n",
      "C:\\Users\\matth\\Documents\\GitHub\\ssnolib\\ssnolib\\standard_name_table.py:410: UserWarning: Could not parse {'standardName': 'direction_of_sea_ice_displacement', 'unit': 'degrees', 'description': 'The phrase \"direction_of_X\" means direction of a vector, a bearing. \"Displacement\" means the change in geospatial position of an object that has moved over time. If possible, the time interval over which the motion took place should be specified using a bounds variable for the time coordinate variable. A displacement can be represented as a vector. Such a vector should however not be interpreted as describing a rectilinear, constant speed motion but merely as an indication that the start point of the vector is found at the tip of the vector after the time interval associated with the displacement variable. A displacement does not prescribe a trajectory. Sea ice displacement can be defined as a two-dimensional vector, with no vertical component. In that case, \"displacement\" is also the distance across the earth\\'s surface calculated from the change in a moving object\\'s geospatial position between the start and end of the time interval associated with the displacement variable. The \"direction of displacement\" is the angle between due north and the displacement vector. \"Sea ice\" means all ice floating in the sea which has formed from freezing sea water, rather than by other processes such as calving of land ice to form icebergs.'}. 1 validation error for StandardName\n",
      "unit.unit\n",
      "  Value error, your_message Unable to parse: \"degrees\" of standard name \"direction_of_sea_ice_displacement\" [type=value_error, input_value='degrees', input_type=str]\n",
      "    For further information visit https://errors.pydantic.dev/2.7/v/value_error\n",
      "  warnings.warn(f\"Could not parse {sn}. {e}\", UserWarning)\n",
      "C:\\Users\\matth\\Documents\\GitHub\\ssnolib\\ssnolib\\standard_name_table.py:410: UserWarning: Could not parse {'standardName': 'enrichment_of_14c_in_carbon_dioxide_in_air_expressed_as_uppercase_delta_14c', 'unit': '1e-3', 'description': 'Isotopic enrichment of 14C, often called d14C or delta14C (lower case delta), is used to calculate the fossil fuel contribution to atmospheric carbon dioxide using isotopic ratios of carbon. It is a parameterisation of the 14C/12C isotopic ratio in the sample with respect to the isotopic ratio in a reference standard. It is computed using the formula (((14C/12C)sample / (14C/12C)standard) - 1) * 1000. The quantity called D14C, or Delta14C (upper case delta) is d14C corrected for isotopic fractionation using the 13C/12C ratio as follows: D14C = d14C - 2(dC13 + 25)(1+d14C/1000). If the sample is enriched in 14C relative to the standard, then the data value is positive. Reference: Stuiver, M. and H.A. Polach, 1977, Discussion reporting of 14C data, Radiocarbon, Volume 19, No. 3, 355-363, doi: 10.1017/S0033822200003672. The reference standard used in the calculation of delta14C should be specified by attaching a long_name attribute to the data variable. \"C\" means the element carbon and \"14C\" is the radioactive isotope \"carbon-14\", having six protons and eight neutrons and used in radiocarbon dating.'}. 1 validation error for StandardName\n",
      "unit.unit\n",
      "  Value error, your_message Unable to parse: \"1e-3\" of standard name \"enrichment_of_14c_in_carbon_dioxide_in_air_expressed_as_uppercase_delta_14c\" [type=value_error, input_value='1e-3', input_type=str]\n",
      "    For further information visit https://errors.pydantic.dev/2.7/v/value_error\n",
      "  warnings.warn(f\"Could not parse {sn}. {e}\", UserWarning)\n",
      "C:\\Users\\matth\\Documents\\GitHub\\ssnolib\\ssnolib\\standard_name_table.py:410: UserWarning: Could not parse {'standardName': 'integral_wrt_depth_of_product_of_salinity_and_sea_water_density', 'unit': '1e-3 kg m-2', 'description': 'The phrase \"integral_wrt_X_of_Y\" means int Y dX. To specify the limits of the integral the data variable should have an axis for X and associated coordinate bounds. If no axis for X is associated with the data variable, or no coordinate bounds are specified, it is assumed that the integral is calculated over the entire vertical extent of the medium, e.g, if the medium is air the integral is assumed to be calculated over the full depth of the atmosphere. The phrase \"wrt\" means \"with respect to\". The phrase \"product_of_X_and_Y\" means X*Y. Depth is the vertical distance below the surface. Sea water salinity is the salt content of sea water, often on the Practical Salinity Scale of 1978. However, the unqualified term \\'salinity\\' is generic and does not necessarily imply any particular method of calculation. The units of salinity are dimensionless and the units attribute should normally be given as 1e-3 or 0.001 i.e. parts per thousand. There are standard names for the more precisely defined salinity quantities sea_water_knudsen_salinity, S_K (used for salinity observations between 1901 and 1966), sea_water_cox_salinity, S_C (used for salinity observations between 1967 and 1977), sea_water_practical_salinity, S_P (used for salinity observations from 1978 to the present day), sea_water_absolute_salinity, S_A, sea_water_preformed_salinity, S_*, and sea_water_reference_salinity. Practical Salinity is reported on the Practical Salinity Scale of 1978 (PSS-78), and is usually based on the electrical conductivity of sea water in observations since the 1960s. Conversion of data between the observed scales follows S_P = (S_K - 0.03) * (1.80655 / 1.805) and S_P = S_C, however the accuracy of the latter is dependent on whether chlorinity or conductivity was used to determine the S_C value, with this inconsistency driving the development of PSS-78. The more precise standard names should be used where appropriate for both modelled and observed salinities. In particular, the use of sea_water_salinity to describe salinity observations made from 1978 onwards is now deprecated in favor of the term sea_water_practical_salinity which is the salinity quantity stored by national data centers for post-1978 observations. The only exception to this is where the observed salinities are definitely known not to be recorded on the Practical Salinity Scale. Practical salinity units are dimensionless. The unit \"parts per thousand\" was used for sea_water_knudsen_salinity and sea_water_cox_salinity. Sea water density is the in-situ density (not the potential density). For Boussinesq models, density is the constant Boussinesq reference density, a quantity which has the standard name reference_sea_water_density_for_boussinesq_approximation.'}. 1 validation error for StandardName\n",
      "unit.unit\n",
      "  Value error, your_message Unable to parse: \"1e-3 kg m-2\" of standard name \"integral_wrt_depth_of_product_of_salinity_and_sea_water_density\" [type=value_error, input_value='1e-3 kg m-2', input_type=str]\n",
      "    For further information visit https://errors.pydantic.dev/2.7/v/value_error\n",
      "  warnings.warn(f\"Could not parse {sn}. {e}\", UserWarning)\n",
      "C:\\Users\\matth\\Documents\\GitHub\\ssnolib\\ssnolib\\standard_name_table.py:410: UserWarning: Could not parse {'standardName': 'latitude', 'unit': 'degree_north', 'description': 'Latitude is positive northward; its units of degree_north (or equivalent) indicate this explicitly. In a latitude-longitude system defined with respect to a rotated North Pole, the standard name of grid_latitude should be used instead of latitude. Grid latitude is positive in the grid-northward direction, but its units should be plain degree.'}. 1 validation error for StandardName\n",
      "unit.unit\n",
      "  Value error, your_message Unable to parse: \"degree_north\" of standard name \"latitude\" [type=value_error, input_value='degree_north', input_type=str]\n",
      "    For further information visit https://errors.pydantic.dev/2.7/v/value_error\n",
      "  warnings.warn(f\"Could not parse {sn}. {e}\", UserWarning)\n",
      "C:\\Users\\matth\\Documents\\GitHub\\ssnolib\\ssnolib\\standard_name_table.py:410: UserWarning: Could not parse {'standardName': 'longitude', 'unit': 'degree_east', 'description': 'Longitude is positive eastward; its units of degree_east (or equivalent) indicate this explicitly. In a latitude-longitude system defined with respect to a rotated North Pole, the standard name of grid_longitude should be used instead of longitude. Grid longitude is positive in the grid-eastward direction, but its units should be plain degree.'}. 1 validation error for StandardName\n",
      "unit.unit\n",
      "  Value error, your_message Unable to parse: \"degree_east\" of standard name \"longitude\" [type=value_error, input_value='degree_east', input_type=str]\n",
      "    For further information visit https://errors.pydantic.dev/2.7/v/value_error\n",
      "  warnings.warn(f\"Could not parse {sn}. {e}\", UserWarning)\n",
      "C:\\Users\\matth\\Documents\\GitHub\\ssnolib\\ssnolib\\standard_name_table.py:410: UserWarning: Could not parse {'standardName': 'nfdrs_1000_hour_fuel_moisture', 'unit': '%', 'description': '1000 hour fuel moisture (FM1000) represents the modelled moisture content in the dead fuels in the 3 to 8 inch diameter class and the layer of the forest floor about 4 inches below the surface. The value is based on a running 7-day average. The 1000-hour time lag fuel moisture is a function of length of day (as influenced by latitude and calendar date), daily temperature and relative humidity extremes (maximum and minimum values) and the 24-hour precipitation duration values for a 7-day period. It is a component in the US National Fire Danger Rating System. The US National Fire Danger Rating System comprises several numeric indexes that rate the potential over a large area for wildland fires to ignite, spread, and require action to suppress or manage. It was designed for use in the continental United States, and all its components are relative, not absolute.'}. 1 validation error for StandardName\n",
      "unit.unit\n",
      "  Value error, your_message Unable to parse: \"%\" of standard name \"nfdrs_1000_hour_fuel_moisture\" [type=value_error, input_value='%', input_type=str]\n",
      "    For further information visit https://errors.pydantic.dev/2.7/v/value_error\n",
      "  warnings.warn(f\"Could not parse {sn}. {e}\", UserWarning)\n",
      "C:\\Users\\matth\\Documents\\GitHub\\ssnolib\\ssnolib\\standard_name_table.py:410: UserWarning: Could not parse {'standardName': 'nfdrs_100_hour_fuel_moisture', 'unit': '%', 'description': '100 hour fuel moisture (FM100) represents the modeled moisture content of dead fuels in the 1 to 3 inch diameter class. It can also be used as a very rough estimate of the average moisture content of the forest floor from three-fourths inch to 4 inches below the surface. The 100-hour timelag fuel moisture is a function of length of day (as influenced by latitude and calendar date), maximum and minimum temperature and relative humidity, and precipitation duration in the previous 24 hours. It is a component in the US National Fire Danger Rating System. The US National Fire Danger Rating System comprises several numeric indexes that rate the potential over a large area for wildland fires to ignite, spread, and require action to suppress or manage. It was designed for use in the continental United States, and all its components are relative, not absolute.'}. 1 validation error for StandardName\n",
      "unit.unit\n",
      "  Value error, your_message Unable to parse: \"%\" of standard name \"nfdrs_100_hour_fuel_moisture\" [type=value_error, input_value='%', input_type=str]\n",
      "    For further information visit https://errors.pydantic.dev/2.7/v/value_error\n",
      "  warnings.warn(f\"Could not parse {sn}. {e}\", UserWarning)\n",
      "C:\\Users\\matth\\Documents\\GitHub\\ssnolib\\ssnolib\\standard_name_table.py:410: UserWarning: Could not parse {'standardName': 'nfdrs_10_hour_fuel_moisture', 'unit': '%', 'description': '10 hour fuel moisture (FM10) represents the modeled moisture content of dead fuels consisting of roundwood in the size range of one quarter to 1 inch in diameter and very roughly, the layer of litter extending from just below the surface to three-quarters of inch below the surface. The 10-hour timelag fuel moisture is a function of length of day (as influenced by latitude and calendar date), daily downwelling shortwave radiation, daily maximum temperature and minimum relative humidity, and daily precipitation values. It is a component in the US National Fire Danger Rating System (cf. https://www.bia.gov/sites/default/files/dup/assets/public/pdf/idc-020513.pdf). The US National Fire Danger Rating System comprises several numeric indexes that rate the potential over a large area for wildland fires to ignite, spread, and require action to suppress or manage. It was designed for use in the continental United States, and all its components are relative, not absolute.'}. 1 validation error for StandardName\n",
      "unit.unit\n",
      "  Value error, your_message Unable to parse: \"%\" of standard name \"nfdrs_10_hour_fuel_moisture\" [type=value_error, input_value='%', input_type=str]\n",
      "    For further information visit https://errors.pydantic.dev/2.7/v/value_error\n",
      "  warnings.warn(f\"Could not parse {sn}. {e}\", UserWarning)\n",
      "C:\\Users\\matth\\Documents\\GitHub\\ssnolib\\ssnolib\\standard_name_table.py:410: UserWarning: Could not parse {'standardName': 'nfdrs_1_hour_fuel_moisture', 'unit': '%', 'description': '1 hour fuel moisture (FM1) represents the modeled moisture content of dead fuels consisting of herbaceous plants or roundwood less than one-quarter inch in diameter. It also includes the uppermost layer of litter on the forest floor. The 1-hour timelag fuel moisture is a function of length of day (as influenced by latitude and calendar date), daily downwelling shortwave radiation, daily maximum temperature and minimum relative humidity, and daily precipitation values. It is a component in the US National Fire Danger Rating System (cf. https://www.bia.gov/sites/default/files/dup/assets/public/pdf/idc-020513.pdf). The US National Fire Danger Rating System comprises several numeric indexes that rate the potential over a large area for wildland fires to ignite, spread, and require action to suppress or manage. It was designed for use in the continental United States, and all its components are relative, not absolute .'}. 1 validation error for StandardName\n",
      "unit.unit\n",
      "  Value error, your_message Unable to parse: \"%\" of standard name \"nfdrs_1_hour_fuel_moisture\" [type=value_error, input_value='%', input_type=str]\n",
      "    For further information visit https://errors.pydantic.dev/2.7/v/value_error\n",
      "  warnings.warn(f\"Could not parse {sn}. {e}\", UserWarning)\n",
      "C:\\Users\\matth\\Documents\\GitHub\\ssnolib\\ssnolib\\standard_name_table.py:410: UserWarning: Could not parse {'standardName': 'ocean_salt_x_transport', 'unit': '1e-3 kg s-1', 'description': '\"x\" indicates a vector component along the grid x-axis, positive with increasing x. Salt transport refers to the mass of salt being transported.'}. 1 validation error for StandardName\n",
      "unit.unit\n",
      "  Value error, your_message Unable to parse: \"1e-3 kg s-1\" of standard name \"ocean_salt_x_transport\" [type=value_error, input_value='1e-3 kg s-1', input_type=str]\n",
      "    For further information visit https://errors.pydantic.dev/2.7/v/value_error\n",
      "  warnings.warn(f\"Could not parse {sn}. {e}\", UserWarning)\n",
      "C:\\Users\\matth\\Documents\\GitHub\\ssnolib\\ssnolib\\standard_name_table.py:410: UserWarning: Could not parse {'standardName': 'ocean_salt_y_transport', 'unit': '1e-3 kg s-1', 'description': '\"y\" indicates a vector component along the grid y-axis, positive with increasing y. Salt transport refers to the mass of salt being transported.'}. 1 validation error for StandardName\n",
      "unit.unit\n",
      "  Value error, your_message Unable to parse: \"1e-3 kg s-1\" of standard name \"ocean_salt_y_transport\" [type=value_error, input_value='1e-3 kg s-1', input_type=str]\n",
      "    For further information visit https://errors.pydantic.dev/2.7/v/value_error\n",
      "  warnings.warn(f\"Could not parse {sn}. {e}\", UserWarning)\n",
      "C:\\Users\\matth\\Documents\\GitHub\\ssnolib\\ssnolib\\standard_name_table.py:410: UserWarning: Could not parse {'standardName': 'sea_ice_salinity', 'unit': '1e-3', 'description': 'Sea ice salinity is the salt content of sea ice, often on the Practical Salinity Scale of 1978. However, the unqualified term \\'salinity\\' is generic and does not necessarily imply any particular method of calculation. The units of salinity are dimensionless and normally given as 1e-3 or 0.001 i.e. parts per thousand. Practical Salinity is reported on the Practical Salinity Scale of 1978 (PSS-78), and is usually based on the electrical conductivity of sea water in observations since the 1960s. \"Sea ice\" means all ice floating in the sea which has formed from freezing sea water, rather than by other processes such as calving of land ice to form icebergs.'}. 1 validation error for StandardName\n",
      "unit.unit\n",
      "  Value error, your_message Unable to parse: \"1e-3\" of standard name \"sea_ice_salinity\" [type=value_error, input_value='1e-3', input_type=str]\n",
      "    For further information visit https://errors.pydantic.dev/2.7/v/value_error\n",
      "  warnings.warn(f\"Could not parse {sn}. {e}\", UserWarning)\n",
      "C:\\Users\\matth\\Documents\\GitHub\\ssnolib\\ssnolib\\standard_name_table.py:410: UserWarning: Could not parse {'standardName': 'sea_surface_salinity', 'unit': '1e-3', 'description': 'Sea surface salinity is the salt content of sea water close to the sea surface, often on the Practical Salinity Scale of 1978. However, the unqualified term \\'salinity\\' is generic and does not necessarily imply any particular method of calculation. The units of salinity are dimensionless and the units attribute should normally be given as 1e-3 or 0.001 i.e. parts per thousand. Sea surface salinity is often abbreviated as \"SSS\". For the salinity of sea water at a particular depth or layer, a data variable of \"sea_water_salinity\" or one of the more precisely defined salinities should be used with a vertical coordinate axis. There are standard names for the precisely defined salinity quantities: sea_water_knudsen_salinity, S_K (used for salinity observations between 1901 and 1966), sea_water_cox_salinity, S_C (used for salinity observations between 1967 and 1977), sea_water_practical_salinity, S_P (used for salinity observations from 1978 to the present day), sea_water_absolute_salinity, S_A, sea_water_preformed_salinity, S_*, and sea_water_reference_salinity. Practical Salinity is reported on the Practical Salinity Scale of 1978 (PSS-78), and is usually based on the electrical conductivity of sea water in observations since the 1960s. Conversion of data between the observed scales follows: S_P = (S_K - 0.03) * (1.80655 / 1.805) and S_P = S_C, however the accuracy of the latter is dependent on whether chlorinity or conductivity was used to determine the S_C value, with this inconsistency driving the development of PSS-78. The more precise standard names should be used where appropriate for both modelled and observed salinities. In particular, the use of sea_water_salinity to describe salinity observations made from 1978 onwards is now deprecated in favor of the term sea_water_practical_salinity which is the salinity quantity stored by national data centers for post-1978 observations. The only exception to this is where the observed salinities are definitely known not to be recorded on the Practical Salinity Scale. The unit \"parts per thousand\" was used for sea_water_knudsen_salinity and sea_water_cox_salinity.'}. 1 validation error for StandardName\n",
      "unit.unit\n",
      "  Value error, your_message Unable to parse: \"1e-3\" of standard name \"sea_surface_salinity\" [type=value_error, input_value='1e-3', input_type=str]\n",
      "    For further information visit https://errors.pydantic.dev/2.7/v/value_error\n",
      "  warnings.warn(f\"Could not parse {sn}. {e}\", UserWarning)\n",
      "C:\\Users\\matth\\Documents\\GitHub\\ssnolib\\ssnolib\\standard_name_table.py:410: UserWarning: Could not parse {'standardName': 'sea_surface_wave_mean_from_direction', 'unit': 'degrees', 'description': 'The wave direction in each frequency band, calculated from the first-order components of the wave directional spectrum. The full directional wave spectrum is described as a Fourier series: S = a0/2 + a1cos(theta) + b1sin(theta) + a2cos(2theta) + b2sin(2theta). The Fourier coefficients a1, b1, a2, & b2 can be converted to polar coordinates as follows: R1 = (SQRT(a1a1+b1b1))/a0, R2 = (SQRT(a2a2+b2b2))/a0, ALPHA1 = 270.0-ARCTAN(b1,a1), ALPHA2 = 270.0-(0.5*ARCTAN(b2,a2)+{0 or 180, whichever minimizes the difference between ALPHA1 and ALPHA2}). ALPHA1 is the mean wave direction, which is determined from the first-order Fourier coefficients. This spectral parameter is a separate quantity from the bulk parameter (MWDIR), which has the standard name sea_surface_wave_from_direction_at_variance_spectral_density_maximum. The phrase \"from_direction\" is used in the construction X_from_direction and indicates the direction from which the velocity vector of X is coming. The direction is a bearing in the usual geographical sense, measured positive clockwise from due north.'}. 1 validation error for StandardName\n",
      "unit.unit\n",
      "  Value error, your_message Unable to parse: \"degrees\" of standard name \"sea_surface_wave_mean_from_direction\" [type=value_error, input_value='degrees', input_type=str]\n",
      "    For further information visit https://errors.pydantic.dev/2.7/v/value_error\n",
      "  warnings.warn(f\"Could not parse {sn}. {e}\", UserWarning)\n",
      "C:\\Users\\matth\\Documents\\GitHub\\ssnolib\\ssnolib\\standard_name_table.py:410: UserWarning: Could not parse {'standardName': 'sea_surface_wave_principal_from_direction', 'unit': 'degrees', 'description': 'The wave direction in each frequency band, calculated from the second-order components of the wave directional spectrum. Since there is an ambiguity of 180 degrees in the calculation of Alpha2 (i.e. 90 degrees and 270 degrees result in equivalent spectra), the value closer to Alpha1 is selected. The full directional wave spectrum is described as a Fourier series: S = a0/2 + a1cos(theta) + b1sin(theta) + a2cos(2theta) + b2sin(2theta). The Fourier coefficients a1, b1, a2, & b2 can be converted to polar coordinates as follows: R1 = (SQRT(a1a1+b1b1))/a0, R2 = (SQRT(a2a2+b2b2))/a0, ALPHA1 = 270.0-ARCTAN(b1,a1), ALPHA2 = 270.0-(0.5*ARCTAN(b2,a2)+{0 or 180, whichever minimizes the difference between ALPHA1 and ALPHA2}). ALPHA2 is the principal wave direction, which is determined from the second-order Fourier coefficients. This spectral parameter is a separate quantity from the bulk parameter (MWDIR), which has the standard name sea_surface_wave_from_direction_at_variance_spectral_density_maximum. The phrase \"from_direction\" is used in the construction X_from_direction and indicates the direction from which the velocity vector of X is coming. The direction is a bearing in the usual geographical sense, measured positive clockwise from due north.'}. 1 validation error for StandardName\n",
      "unit.unit\n",
      "  Value error, your_message Unable to parse: \"degrees\" of standard name \"sea_surface_wave_principal_from_direction\" [type=value_error, input_value='degrees', input_type=str]\n",
      "    For further information visit https://errors.pydantic.dev/2.7/v/value_error\n",
      "  warnings.warn(f\"Could not parse {sn}. {e}\", UserWarning)\n",
      "C:\\Users\\matth\\Documents\\GitHub\\ssnolib\\ssnolib\\standard_name_table.py:410: UserWarning: Could not parse {'standardName': 'sea_water_cox_salinity', 'unit': '1e-3', 'description': 'Cox Salinity, S_C, is defined unitless as a mass fraction per mil (0/00) or \"parts per thousand\". S_C was the standard salinity measure from 1967 until Practical Salinity, S_P, was established with PSS-78 (1978). Chlorinity, Cl, is calculated from the conductivity of a sea water sample and since the work of the Joint Panel for Oceanographic Tables and Standards (JPOTS; 1966) is converted into Cox Salinity using S_C = 1.80655Cl. This type of salinity was called simply \"salinity\" from 1967 to 1978. Cox Salinity was replaced by Practical Salinity in 1978. Cox Salinity is converted to Practical Salinity following S_P = S_C, however the accuracy of this is dependent on whether chlorinity or conductivity was used to determine the S_C value, with this inconsistency driving the development of the Practical Salinity Scale 1978 (PSS-78). Reference: Cox et al., 1967 doi: 10.1016/0011-7471(67)90006-X; Lyman, 1969 doi: 10.4319/lo.1969.14.6.0928; Wooster et al., 1969 doi: 10.4319/lo.1969.14.3.0437. There are standard names for the precisely defined salinity quantities sea_water_knudsen_salinity, S_K (used for salinity observations between 1901 and 1966), sea_water_practical_salinity, S_P, sea_water_absolute_salinity, S_A, sea_water_preformed_salinity, S_* and sea_water_reference_salinity. Salinity quantities that do not match any of the precise definitions should be given the more general standard name of sea_water_salinity.'}. 1 validation error for StandardName\n",
      "unit.unit\n",
      "  Value error, your_message Unable to parse: \"1e-3\" of standard name \"sea_water_cox_salinity\" [type=value_error, input_value='1e-3', input_type=str]\n",
      "    For further information visit https://errors.pydantic.dev/2.7/v/value_error\n",
      "  warnings.warn(f\"Could not parse {sn}. {e}\", UserWarning)\n",
      "C:\\Users\\matth\\Documents\\GitHub\\ssnolib\\ssnolib\\standard_name_table.py:410: UserWarning: Could not parse {'standardName': 'sea_water_electrical_conductivity', 'unit': 'S m-1', 'description': ''}. 1 validation error for StandardName\n",
      "unit.unit\n",
      "  Value error, your_message Unable to parse: \"S m-1\" of standard name \"sea_water_electrical_conductivity\" [type=value_error, input_value='S m-1', input_type=str]\n",
      "    For further information visit https://errors.pydantic.dev/2.7/v/value_error\n",
      "  warnings.warn(f\"Could not parse {sn}. {e}\", UserWarning)\n",
      "C:\\Users\\matth\\Documents\\GitHub\\ssnolib\\ssnolib\\standard_name_table.py:410: UserWarning: Could not parse {'standardName': 'sea_water_electrical_conductivity_at_reference_temperature', 'unit': 'S m-1', 'description': \"The electrical conductivity of sea water in a sample measured at a defined reference temperature. The reference temperature should be recorded in a scalar coordinate variable, or a coordinate variable with a single dimension of size one, and the standard name of temperature_of_analysis_of_sea_water. This quantity is sometimes called 'specific conductivity' when the reference temperature 25 degrees Celsius.\"}. 1 validation error for StandardName\n",
      "unit.unit\n",
      "  Value error, your_message Unable to parse: \"S m-1\" of standard name \"sea_water_electrical_conductivity_at_reference_temperature\" [type=value_error, input_value='S m-1', input_type=str]\n",
      "    For further information visit https://errors.pydantic.dev/2.7/v/value_error\n",
      "  warnings.warn(f\"Could not parse {sn}. {e}\", UserWarning)\n",
      "C:\\Users\\matth\\Documents\\GitHub\\ssnolib\\ssnolib\\standard_name_table.py:410: UserWarning: Could not parse {'standardName': 'sea_water_knudsen_salinity', 'unit': '1e-3', 'description': 'Knudsen Salinity, S_K, is defined unitless as a mass fraction per mil (0/00) or \"parts per thousand\", and was calculated from the titration of inorganic salts from a sample of sea water after a commission to study the problem of determining salinity and density was initiated by the International Council for the Exploration of the Sea (ICES) in 1899. S_K was the standard salinity measure until S_C (Cox Salinity) was established in 1967. Since the work of Knudsen (1901), chlorinity is converted into Knudsen Salinity using S_K = 0.030 + 1.805 Cl. This type of salinity was called simply \"salinity\" from 1901 to 1966. From the 1960s on, electrical conductivity began to be used to estimate the Knudsen Salinity, rather than chemical titration. Knudsen Salinity was replaced by Cox Salinity in 1967 which was in turn replaced by Practical Salinity, S_P, in 1978. Conversion of Knudsen Salinity to Practical Salinity follows S_P = (S_K - 0.03) * (1.80655 / 1.805). Reference: Knudsen, 1901; Thomas et al., 1934 doi: 10.1093/icesjms/9.1.28; Lyman, 1969 doi: 10.4319/lo.1969.14.6.0928; Wooster et al., 1969 doi: 10.4319/lo.1969.14.3.0437; Lewis, 1980 doi: 10.1109/JOE.1980.1145448; Millero et al., 2008 doi: 10.1016/j.dsr.2007.10.001. There are standard names for the precisely defined salinity quantities sea_water_cox_salinity, S_C (used for salinity observations between 1967 and 1977), sea_water_practical_salinity, S_P, sea_water_absolute_salinity, S_A, sea_water_preformed_salinity, S_* and sea_water_reference_salinity. Salinity quantities that do not match any of the precise definitions should be given the more general standard name of sea_water_salinity.'}. 1 validation error for StandardName\n",
      "unit.unit\n",
      "  Value error, your_message Unable to parse: \"1e-3\" of standard name \"sea_water_knudsen_salinity\" [type=value_error, input_value='1e-3', input_type=str]\n",
      "    For further information visit https://errors.pydantic.dev/2.7/v/value_error\n",
      "  warnings.warn(f\"Could not parse {sn}. {e}\", UserWarning)\n",
      "C:\\Users\\matth\\Documents\\GitHub\\ssnolib\\ssnolib\\standard_name_table.py:410: UserWarning: Could not parse {'standardName': 'sea_water_salinity', 'unit': '1e-3', 'description': 'Sea water salinity is the salt content of sea water, often on the Practical Salinity Scale of 1978. However, the unqualified term \\'salinity\\' is generic and does not necessarily imply any particular method of calculation. The units of salinity are dimensionless and the units attribute should normally be given as 1e-3 or 0.001 i.e. parts per thousand. There are standard names for the more precisely defined salinity quantities: sea_water_knudsen_salinity, S_K (used for salinity observations between 1901 and 1966),  sea_water_cox_salinity, S_C (used for salinity observations between 1967 and 1977), sea_water_practical_salinity, S_P (used for salinity observations from 1978 to the present day), sea_water_absolute_salinity, S_A, sea_water_preformed_salinity, S_*, and sea_water_reference_salinity. Practical Salinity is reported on the Practical Salinity Scale of 1978 (PSS-78), and is usually based on the electrical conductivity of sea water in observations since the 1960s. Conversion of data between the observed scales follows: S_P = (S_K - 0.03) * (1.80655 / 1.805) and S_P = S_C, however the accuracy of the latter is dependent on whether chlorinity or conductivity was used to determine the S_C value, with this inconsistency driving the development of PSS-78. The more precise standard names should be used where appropriate for both modelled and observed salinities. In particular, the use of sea_water_salinity to describe salinity observations made from 1978 onwards is now deprecated in favor of the term sea_water_practical_salinity which is the salinity quantity stored by national data centers for post-1978 observations. The only exception to this is where the observed salinities are definitely known not to be recorded on the Practical Salinity Scale. The unit \"parts per thousand\" was used for sea_water_knudsen_salinity and sea_water_cox_salinity.'}. 1 validation error for StandardName\n",
      "unit.unit\n",
      "  Value error, your_message Unable to parse: \"1e-3\" of standard name \"sea_water_salinity\" [type=value_error, input_value='1e-3', input_type=str]\n",
      "    For further information visit https://errors.pydantic.dev/2.7/v/value_error\n",
      "  warnings.warn(f\"Could not parse {sn}. {e}\", UserWarning)\n",
      "C:\\Users\\matth\\Documents\\GitHub\\ssnolib\\ssnolib\\standard_name_table.py:410: UserWarning: Could not parse {'standardName': 'sea_water_salinity_at_sea_floor', 'unit': '1e-3', 'description': 'The salinity at the sea floor is that adjacent to the ocean bottom, which would be the deepest grid cell in an ocean model and within the benthic boundary layer for measurements. Sea water salinity is the salt concentration of sea water, often on the Practical Salinity Scale of 1978. However, the unqualified term \\'salinity\\' is generic and does not necessarily imply any particular method of calculation. The units of salinity are dimensionless and the units attribute should normally be given as 1e-3 or 0.001 i.e. parts per thousand. There are standard names for the more precisely defined salinity quantities sea_water_knudsen_salinity, S_K (used for salinity observations between 1901 and 1966), sea_water_cox_salinity, S_C (used for salinity observations between 1967 and 1977), sea_water_practical_salinity, S_P (used for salinity observations from 1978 to the present day), sea_water_absolute_salinity, S_A, sea_water_preformed_salinity, S_*, and sea_water_reference_salinity. Practical Salinity is reported on the Practical Salinity Scale of 1978 (PSS-78), and is usually based on the electrical conductivity of sea water in observations since the 1960s. Conversion of data between the observed scales follows S_P = (S_K - 0.03) * (1.80655 / 1.805) and S_P = S_C, however the accuracy of the latter is dependent on whether chlorinity or conductivity was used to determine the S_C value, with this inconsistency driving the development of PSS-78. The more precise standard names should be used where appropriate for both modelled and observed salinities. In particular, the use of sea_water_salinity to describe salinity observations made from 1978 onwards is now deprecated in favor of the term sea_water_practical_salinity which is the salinity quantity stored by national data centers for post-1978 observations. The only exception to this is where the observed salinities are definitely known not to be recorded on the Practical Salinity Scale. Practical salinity units are dimensionless. The unit \"parts per thousand\" was used for sea_water_knudsen_salinity and sea_water_cox_salinity.'}. 1 validation error for StandardName\n",
      "unit.unit\n",
      "  Value error, your_message Unable to parse: \"1e-3\" of standard name \"sea_water_salinity_at_sea_floor\" [type=value_error, input_value='1e-3', input_type=str]\n",
      "    For further information visit https://errors.pydantic.dev/2.7/v/value_error\n",
      "  warnings.warn(f\"Could not parse {sn}. {e}\", UserWarning)\n",
      "C:\\Users\\matth\\Documents\\GitHub\\ssnolib\\ssnolib\\standard_name_table.py:410: UserWarning: Could not parse {'standardName': 'soil_thermal_capacity', 'unit': 'J kg-1 K-1', 'description': 'Thermal capacity, or heat capacity, is the amount of heat energy required to increase the temperature of 1 kg of material by 1 K. It is a property of the material. It is strongly recommended that a variable with this standard name should have the attribute units_metadata=\"temperature: difference\", meaning that it refers to temperature differences and implying that the origin of the temperature scale is irrelevant, because it is essential to know whether a temperature is on-scale or a difference in order to convert the units correctly (cf. https://cfconventions.org/cf-conventions/cf-conventions.html#temperature-units).'}. 1 validation error for StandardName\n",
      "unit.unit\n",
      "  Value error, your_message Unable to parse: \"J kg-1 K-1\" of standard name \"soil_thermal_capacity\" [type=value_error, input_value='J kg-1 K-1', input_type=str]\n",
      "    For further information visit https://errors.pydantic.dev/2.7/v/value_error\n",
      "  warnings.warn(f\"Could not parse {sn}. {e}\", UserWarning)\n",
      "C:\\Users\\matth\\Documents\\GitHub\\ssnolib\\ssnolib\\standard_name_table.py:410: UserWarning: Could not parse {'standardName': 'soil_water_salinity', 'unit': '1e-3', 'description': \"The quantity with standard name soil_water_salinity is the salt content of soil water, often on the Practical Salinity Scale of 1978. However, the unqualified term 'salinity' is generic and does not necessarily imply any particular method of calculation. The units of salinity are dimensionless and normally given as 1e-3 or 0.001 i.e. parts per thousand.\"}. 1 validation error for StandardName\n",
      "unit.unit\n",
      "  Value error, your_message Unable to parse: \"1e-3\" of standard name \"soil_water_salinity\" [type=value_error, input_value='1e-3', input_type=str]\n",
      "    For further information visit https://errors.pydantic.dev/2.7/v/value_error\n",
      "  warnings.warn(f\"Could not parse {sn}. {e}\", UserWarning)\n",
      "C:\\Users\\matth\\Documents\\GitHub\\ssnolib\\ssnolib\\standard_name_table.py:410: UserWarning: Could not parse {'standardName': 'specific_heat_capacity_of_frozen_ground', 'unit': 'J kg-1 K-1', 'description': 'Thermal capacity, or heat capacity, is the amount of heat energy required to increase the temperature of 1 kg of material by 1 K. It is a property of the material. It is strongly recommended that a variable with this standard name should have the attribute units_metadata=\"temperature: difference\", meaning that it refers to temperature differences and implying that the origin of the temperature scale is irrelevant, because it is essential to know whether a temperature is on-scale or a difference in order to convert the units correctly (cf. https://cfconventions.org/cf-conventions/cf-conventions.html#temperature-units).'}. 1 validation error for StandardName\n",
      "unit.unit\n",
      "  Value error, your_message Unable to parse: \"J kg-1 K-1\" of standard name \"specific_heat_capacity_of_frozen_ground\" [type=value_error, input_value='J kg-1 K-1', input_type=str]\n",
      "    For further information visit https://errors.pydantic.dev/2.7/v/value_error\n",
      "  warnings.warn(f\"Could not parse {sn}. {e}\", UserWarning)\n",
      "C:\\Users\\matth\\Documents\\GitHub\\ssnolib\\ssnolib\\standard_name_table.py:410: UserWarning: Could not parse {'standardName': 'specific_heat_capacity_of_sea_water', 'unit': 'J kg-1 K-1', 'description': 'The specific heat capacity of sea water, Cp(ocean), is used in ocean models to convert between model prognostic temperature (potential or conservative temperature) and model heat content. It is strongly recommended that a variable with this standard name should have the attribute units_metadata=\"temperature: difference\", meaning that it refers to temperature differences and implying that the origin of the temperature scale is irrelevant, because it is essential to know whether a temperature is on-scale or a difference in order to convert the units correctly (cf. https://cfconventions.org/cf-conventions/cf-conventions.html#temperature-units).'}. 1 validation error for StandardName\n",
      "unit.unit\n",
      "  Value error, your_message Unable to parse: \"J kg-1 K-1\" of standard name \"specific_heat_capacity_of_sea_water\" [type=value_error, input_value='J kg-1 K-1', input_type=str]\n",
      "    For further information visit https://errors.pydantic.dev/2.7/v/value_error\n",
      "  warnings.warn(f\"Could not parse {sn}. {e}\", UserWarning)\n",
      "C:\\Users\\matth\\Documents\\GitHub\\ssnolib\\ssnolib\\standard_name_table.py:410: UserWarning: Could not parse {'standardName': 'square_of_air_temperature', 'unit': 'K2', 'description': 'The phrase \"square_of_X\" means X*X. Air temperature is the bulk temperature of the air, not the surface (skin) temperature. It is strongly recommended that a variable with this standard name should have a units_metadata attribute, with one of the values \"on-scale\" or \"difference\", whichever is appropriate for the data, because it is essential to know whether the temperature is on-scale (meaning relative to the origin of the scale indicated by the units) or refers to temperature differences (implying that the origin of the temperature scale is irrevelant), in order to convert the units correctly (cf. https://cfconventions.org/cf-conventions/cf-conventions.html#temperature-units).'}. 1 validation error for StandardName\n",
      "unit.unit\n",
      "  Value error, your_message Unable to parse: \"K2\" of standard name \"square_of_air_temperature\" [type=value_error, input_value='K2', input_type=str]\n",
      "    For further information visit https://errors.pydantic.dev/2.7/v/value_error\n",
      "  warnings.warn(f\"Could not parse {sn}. {e}\", UserWarning)\n",
      "C:\\Users\\matth\\Documents\\GitHub\\ssnolib\\ssnolib\\standard_name_table.py:410: UserWarning: Could not parse {'standardName': 'square_of_sea_surface_salinity', 'unit': '1e-6', 'description': 'The phrase \"square_of_X\" means X*X. Sea surface salinity is the salt concentration of sea water close to the sea surface, often on the Practical Salinity Scale of 1978. However, the unqualified term \\'salinity\\' is generic and does not necessarily imply any particular method of calculation. The units of salinity are dimensionless and the units attribute should normally be given as 1e-3 or 0.001 i.e. parts per thousand. Sea surface salinity is often abbreviated as \"SSS\". For the salinity of sea water at a particular depth or layer, a data variable of \"sea_water_salinity\" or one of the more precisely defined salinities should be used with a vertical coordinate axis. There are standard names for the precisely defined salinity quantities: sea_water_knudsen_salinity, S_K (used for salinity observations between 1901 and 1966), sea_water_cox_salinity, S_C (used for salinity observations between 1967 and 1977), sea_water_practical_salinity, S_P (used for salinity observations from 1978 to the present day), sea_water_absolute_salinity, S_A, sea_water_preformed_salinity, S_*, and sea_water_reference_salinity. Practical Salinity is reported on the Practical Salinity Scale of 1978 (PSS-78), and is usually based on the electrical conductivity of sea water in observations since the 1960s. Conversion of data between the observed scales follows: S_P = (S_K - 0.03) * (1.80655 / 1.805) and S_P = S_C, however the accuracy of the latter is dependent on whether chlorinity or conductivity was used to determine the S_C value, with this inconsistency driving the development of PSS-78. The more precise standard names should be used where appropriate for both modelled and observed salinities. In particular, the use of sea_water_salinity to describe salinity observations made from 1978 onwards is now deprecated in favor of the term sea_water_practical_salinity which is the salinity quantity stored by national data centers for post-1978 observations. The only exception to this is where the observed salinities are definitely known not to be recorded on the Practical Salinity Scale. The unit \"parts per thousand\" was used for sea_water_knudsen_salinity and sea_water_cox_salinity.'}. 1 validation error for StandardName\n",
      "unit.unit\n",
      "  Value error, your_message Unable to parse: \"1e-6\" of standard name \"square_of_sea_surface_salinity\" [type=value_error, input_value='1e-6', input_type=str]\n",
      "    For further information visit https://errors.pydantic.dev/2.7/v/value_error\n",
      "  warnings.warn(f\"Could not parse {sn}. {e}\", UserWarning)\n",
      "C:\\Users\\matth\\Documents\\GitHub\\ssnolib\\ssnolib\\standard_name_table.py:410: UserWarning: Could not parse {'standardName': 'square_of_sea_surface_temperature', 'unit': 'K2', 'description': 'Sea surface temperature is usually abbreviated as \"SST\". It is the temperature of sea water near the surface (including the part under sea-ice, if any), and not the skin temperature, whose standard name is surface_temperature. For the temperature of sea water at a particular depth or layer, a data variable of sea_water_temperature with a vertical coordinate axis should be used.  \"square_of_X\" means X*X. It is strongly recommended that a variable with this standard name should have a units_metadata attribute, with one of the values \"on-scale\" or \"difference\", whichever is appropriate for the data, because it is essential to know whether the temperature is on-scale (meaning relative to the origin of the scale indicated by the units) or refers to temperature differences (implying that the origin of the temperature scale is irrevelant), in order to convert the units correctly (cf. https://cfconventions.org/cf-conventions/cf-conventions.html#temperature-units).'}. 1 validation error for StandardName\n",
      "unit.unit\n",
      "  Value error, your_message Unable to parse: \"K2\" of standard name \"square_of_sea_surface_temperature\" [type=value_error, input_value='K2', input_type=str]\n",
      "    For further information visit https://errors.pydantic.dev/2.7/v/value_error\n",
      "  warnings.warn(f\"Could not parse {sn}. {e}\", UserWarning)\n",
      "C:\\Users\\matth\\Documents\\GitHub\\ssnolib\\ssnolib\\standard_name_table.py:410: UserWarning: Could not parse {'standardName': 'surface_buoyancy_flux_into_air', 'unit': 'm2 s-3', 'description': 'A variable quantifying net density gains or losses in air parcel buoyancy based on turbulent heat and moisture fluxes, represented by virtual temperature flux, at the air-sea interface.  Positive values indicate a buoyancy flux out of the ocean (into the air) that will destabilize the atmosphere.'}. 1 validation error for StandardName\n",
      "unit.unit\n",
      "  Value error, your_message Unable to parse: \"m2 s-3\" of standard name \"surface_buoyancy_flux_into_air\" [type=value_error, input_value='m2 s-3', input_type=str]\n",
      "    For further information visit https://errors.pydantic.dev/2.7/v/value_error\n",
      "  warnings.warn(f\"Could not parse {sn}. {e}\", UserWarning)\n",
      "C:\\Users\\matth\\Documents\\GitHub\\ssnolib\\ssnolib\\standard_name_table.py:410: UserWarning: Could not parse {'standardName': 'surface_buoyancy_flux_into_sea_water', 'unit': 'm2 s-3', 'description': 'A variable quantifying net density gains or losses in water parcel buoyancy based on thermal (net surface heat flux) and haline (precipitation minus evaporation) forcings at the air-sea interface. A positive value indicates a buoyancy flux into the ocean that will stabilize (i.e., stratify) the surface ocean layer.'}. 1 validation error for StandardName\n",
      "unit.unit\n",
      "  Value error, your_message Unable to parse: \"m2 s-3\" of standard name \"surface_buoyancy_flux_into_sea_water\" [type=value_error, input_value='m2 s-3', input_type=str]\n",
      "    For further information visit https://errors.pydantic.dev/2.7/v/value_error\n",
      "  warnings.warn(f\"Could not parse {sn}. {e}\", UserWarning)\n",
      "C:\\Users\\matth\\Documents\\GitHub\\ssnolib\\ssnolib\\standard_name_table.py:410: UserWarning: Could not parse {'standardName': 'tendency_of_sea_water_salinity', 'unit': '1e-3 s-1', 'description': '\"tendency_of_X\" means derivative of X with respect to time. Sea water salinity is the salt content of sea water, often on the Practical Salinity Scale of 1978. However, the unqualified term \\'salinity\\' is generic and does not necessarily imply any particular method of calculation. The units of salinity are dimensionless and normally given as 1e-3 or 0.001 i.e. parts per thousand. There are standard names for the more precisely defined salinity quantities: sea_water_knudsen_salinity, S_K (used for salinity observations between 1901 and 1966), sea_water_cox_salinity, S_C (used for salinity observations between 1967 and 1977), sea_water_practical_salinity, S_P (used for salinity observations from 1978 to the present day), sea_water_absolute_salinity, S_A, sea_water_preformed_salinity, S_*, and sea_water_reference_salinity. Practical Salinity is reported on the Practical Salinity Scale of 1978 (PSS-78), and is usually based on the electrical conductivity of sea water in observations since the 1960s. Conversion of data between the observed scales follows: S_P = (S_K - 0.03) * (1.80655 / 1.805) and S_P = S_C, however the accuracy of the latter is dependent on whether chlorinity or conductivity was used to determine the S_C value, with this inconsistency driving the development of PSS-78. The more precise standard names should be used where appropriate for both modelled and observed salinities. In particular, the use of sea_water_salinity to describe salinity observations made from 1978 onwards is now deprecated in favor of the term sea_water_practical_salinity which is the salinity quantity stored by national data centers for post-1978 observations. The only exception to this is where the observed salinities are definitely known not to be recorded on the Practical Salinity Scale. The unit \"parts per thousand\" was used for sea_water_knudsen_salinity and sea_water_cox_salinity.'}. 1 validation error for StandardName\n",
      "unit.unit\n",
      "  Value error, your_message Unable to parse: \"1e-3 s-1\" of standard name \"tendency_of_sea_water_salinity\" [type=value_error, input_value='1e-3 s-1', input_type=str]\n",
      "    For further information visit https://errors.pydantic.dev/2.7/v/value_error\n",
      "  warnings.warn(f\"Could not parse {sn}. {e}\", UserWarning)\n",
      "C:\\Users\\matth\\Documents\\GitHub\\ssnolib\\ssnolib\\standard_name_table.py:410: UserWarning: Could not parse {'standardName': 'tendency_of_sea_water_salinity_due_to_advection', 'unit': '1e-3 s-1', 'description': '\"tendency_of_X\" means derivative of X with respect to time. The specification of a physical process by the phrase due_to_process means that the quantity named is a single term in a sum of terms which together compose the general quantity named by omitting the phrase. Sea water salinity is the salt content of sea water, often on the Practical Salinity Scale of 1978. However, the unqualified term \\'salinity\\' is generic and does not necessarily imply any particular method of calculation. The units of salinity are dimensionless and normally given as 1e-3 or 0.001 i.e. parts per thousand. There are standard names for the more precisely defined salinity quantities: sea_water_knudsen_salinity, S_K (used for salinity observations between 1901 and 1966), sea_water_cox_salinity, S_C (used for salinity observations between 1967 and 1977), sea_water_practical_salinity, S_P (used for salinity observations from 1978 to the present day), sea_water_absolute_salinity, S_A, sea_water_preformed_salinity, S_*, and sea_water_reference_salinity. Practical Salinity is reported on the Practical Salinity Scale of 1978 (PSS-78), and is usually based on the electrical conductivity of sea water in observations since the 1960s. Conversion of data between the observed scales follows: S_P = (S_K - 0.03) * (1.80655 / 1.805) and S_P = S_C, however the accuracy of the latter is dependent on whether chlorinity or conductivity was used to determine the S_C value, with this inconsistency driving the development of PSS-78. The more precise standard names should be used where appropriate for both modelled and observed salinities. In particular, the use of sea_water_salinity to describe salinity observations made from 1978 onwards is now deprecated in favor of the term sea_water_practical_salinity which is the salinity quantity stored by national data centers for post-1978 observations. The only exception to this is where the observed salinities are definitely known not to be recorded on the Practical Salinity Scale. The unit \"parts per thousand\" was used for sea_water_knudsen_salinity and sea_water_cox_salinity.'}. 1 validation error for StandardName\n",
      "unit.unit\n",
      "  Value error, your_message Unable to parse: \"1e-3 s-1\" of standard name \"tendency_of_sea_water_salinity_due_to_advection\" [type=value_error, input_value='1e-3 s-1', input_type=str]\n",
      "    For further information visit https://errors.pydantic.dev/2.7/v/value_error\n",
      "  warnings.warn(f\"Could not parse {sn}. {e}\", UserWarning)\n",
      "C:\\Users\\matth\\Documents\\GitHub\\ssnolib\\ssnolib\\standard_name_table.py:410: UserWarning: Could not parse {'standardName': 'tendency_of_sea_water_salinity_due_to_horizontal_mixing', 'unit': '1e-3 s-1', 'description': '\"tendency_of_X\" means derivative of X with respect to time. The specification of a physical process by the phrase due_to_process means that the quantity named is a single term in a sum of terms which together compose the general quantity named by omitting the phrase. \"Horizontal mixing\" means any horizontal transport other than by advection and parameterized eddy advection, usually represented as horizontal diffusion in ocean models. Sea water salinity is the salt content of sea water, often on the Practical Salinity Scale of 1978. However, the unqualified term \\'salinity\\' is generic and does not necessarily imply any particular method of calculation. The units of salinity are dimensionless and normally given as 1e-3 or 0.001 i.e. parts per thousand. There are standard names for the more precisely defined salinity quantities: sea_water_knudsen_salinity, S_K (used for salinity observations between 1901 and 1966), sea_water_cox_salinity, S_C (used for salinity observations between 1967 and 1977), sea_water_practical_salinity, S_P (used for salinity observations from 1978 to the present day), sea_water_absolute_salinity, S_A, sea_water_preformed_salinity, S_*, and sea_water_reference_salinity. Practical Salinity is reported on the Practical Salinity Scale of 1978 (PSS-78), and is usually based on the electrical conductivity of sea water in observations since the 1960s. Conversion of data between the observed scales follows: S_P = (S_K - 0.03) * (1.80655 / 1.805) and S_P = S_C, however the accuracy of the latter is dependent on whether chlorinity or conductivity was used to determine the S_C value, with this inconsistency driving the development of PSS-78. The more precise standard names should be used where appropriate for both modelled and observed salinities. In particular, the use of sea_water_salinity to describe salinity observations made from 1978 onwards is now deprecated in favor of the term sea_water_practical_salinity which is the salinity quantity stored by national data centers for post-1978 observations. The only exception to this is where the observed salinities are definitely known not to be recorded on the Practical Salinity Scale. The unit \"parts per thousand\" was used for sea_water_knudsen_salinity and sea_water_cox_salinity.'}. 1 validation error for StandardName\n",
      "unit.unit\n",
      "  Value error, your_message Unable to parse: \"1e-3 s-1\" of standard name \"tendency_of_sea_water_salinity_due_to_horizontal_mixing\" [type=value_error, input_value='1e-3 s-1', input_type=str]\n",
      "    For further information visit https://errors.pydantic.dev/2.7/v/value_error\n",
      "  warnings.warn(f\"Could not parse {sn}. {e}\", UserWarning)\n",
      "C:\\Users\\matth\\Documents\\GitHub\\ssnolib\\ssnolib\\standard_name_table.py:410: UserWarning: Could not parse {'standardName': 'tendency_of_sea_water_salinity_due_to_parameterized_eddy_advection', 'unit': '1e-3 s-1', 'description': '\"tendency_of_X\" means derivative of X with respect to time. The specification of a physical process by the phrase due_to_process means that the quantity named is a single term in a sum of terms which together compose the general quantity named by omitting the phrase. Parameterized eddy advection in an ocean model means the part due to a scheme representing parameterized eddy-induced advective effects not included in the resolved model velocity field. Parameterized eddy advection can be represented on various spatial scales and there are standard names for parameterized_mesoscale_eddy_advection and parameterized_submesoscale_eddy_advection which both contribute to the total parameterized eddy advection. Sea water salinity is the salt content of sea water, often on the Practical Salinity Scale of 1978. However, the unqualified term \\'salinity\\' is generic and does not necessarily imply any particular method of calculation. The units of salinity are dimensionless and normally given as 1e-3 or 0.001 i.e. parts per thousand. There are standard names for the more precisely defined salinity quantities: sea_water_knudsen_salinity, S_K (used for salinity observations between 1901 and 1966), sea_water_cox_salinity, S_C (used for salinity observations between 1967 and 1977), sea_water_practical_salinity, S_P (used for salinity observations from 1978 to the present day), sea_water_absolute_salinity, S_A, sea_water_preformed_salinity, S_*, and sea_water_reference_salinity. Practical Salinity is reported on the Practical Salinity Scale of 1978 (PSS-78), and is usually based on the electrical conductivity of sea water in observations since the 1960s. Conversion of data between the observed scales follows: S_P = (S_K - 0.03) * (1.80655 / 1.805) and S_P = S_C, however the accuracy of the latter is dependent on whether chlorinity or conductivity was used to determine the S_C value, with this inconsistency driving the development of PSS-78. The more precise standard names should be used where appropriate for both modelled and observed salinities. In particular, the use of sea_water_salinity to describe salinity observations made from 1978 onwards is now deprecated in favor of the term sea_water_practical_salinity which is the salinity quantity stored by national data centers for post-1978 observations. The only exception to this is where the observed salinities are definitely known not to be recorded on the Practical Salinity Scale. The unit \"parts per thousand\" was used for sea_water_knudsen_salinity and sea_water_cox_salinity.'}. 1 validation error for StandardName\n",
      "unit.unit\n",
      "  Value error, your_message Unable to parse: \"1e-3 s-1\" of standard name \"tendency_of_sea_water_salinity_due_to_parameterized_eddy_advection\" [type=value_error, input_value='1e-3 s-1', input_type=str]\n",
      "    For further information visit https://errors.pydantic.dev/2.7/v/value_error\n",
      "  warnings.warn(f\"Could not parse {sn}. {e}\", UserWarning)\n",
      "C:\\Users\\matth\\Documents\\GitHub\\ssnolib\\ssnolib\\standard_name_table.py:410: UserWarning: Could not parse {'standardName': 'tendency_of_sea_water_salinity_due_to_sea_ice_thermodynamics', 'unit': '1e-3 s-1', 'description': 'The phrase \"tendency_of_X\" means derivative of X with respect to time. Sea water salinity is the salt content of sea water, often on the Practical Salinity Scale of 1978. However, the unqualified term \\'salinity\\' is generic and does not necessarily imply any particular method of calculation. The units of salinity are dimensionless and normally given as 1e-3 or 0.001 i.e. parts per thousand. There are standard names for the more precisely defined salinity quantities: sea_water_knudsen_salinity, S_K (used for salinity observations between 1901 and 1966), sea_water_cox_salinity, S_C (used for salinity observations between 1967 and 1977), sea_water_practical_salinity, S_P (used for salinity observations from 1978 to the present day), sea_water_absolute_salinity, S_A, sea_water_preformed_salinity, S_*, and sea_water_reference_salinity. Practical Salinity is reported on the Practical Salinity Scale of 1978 (PSS-78), and is usually based on the electrical conductivity of sea water in observations since the 1960s. Conversion of data between the observed scales follows: S_P = (S_K - 0.03) * (1.80655 / 1.805) and S_P = S_C, however the accuracy of the latter is dependent on whether chlorinity or conductivity was used to determine the S_C value, with this inconsistency driving the development of PSS-78. The more precise standard names should be used where appropriate for both modelled and observed salinities. In particular, the use of sea_water_salinity to describe salinity observations made from 1978 onwards is now deprecated in favor of the term sea_water_practical_salinity which is the salinity quantity stored by national data centers for post-1978 observations. The only exception to this is where the observed salinities are definitely known not to be recorded on the Practical Salinity Scale. The unit \"parts per thousand\" was used for sea_water_knudsen_salinity and sea_water_cox_salinity. The specification of a physical process by the phrase due_to_process means that the quantity named is a single term in a sum of terms which together compose the general quantity named by omitting the phrase. \"Sea ice thermodynamics\" refers to the addition or subtraction of sea ice mass due to surface and basal fluxes, i.e. due to melting, sublimation and fusion. \"Sea ice\" means all ice floating in the sea which has formed from freezing sea water, rather than by other processes such as calving of land ice to form icebergs.'}. 1 validation error for StandardName\n",
      "unit.unit\n",
      "  Value error, your_message Unable to parse: \"1e-3 s-1\" of standard name \"tendency_of_sea_water_salinity_due_to_sea_ice_thermodynamics\" [type=value_error, input_value='1e-3 s-1', input_type=str]\n",
      "    For further information visit https://errors.pydantic.dev/2.7/v/value_error\n",
      "  warnings.warn(f\"Could not parse {sn}. {e}\", UserWarning)\n",
      "C:\\Users\\matth\\Documents\\GitHub\\ssnolib\\ssnolib\\standard_name_table.py:410: UserWarning: Could not parse {'standardName': 'tendency_of_sea_water_salinity_due_to_vertical_mixing', 'unit': '1e-3 s-1', 'description': '\"tendency_of_X\" means derivative of X with respect to time. The specification of a physical process by the phrase due_to_process means that the quantity named is a single term in a sum of terms which together compose the general quantity named by omitting the phrase. \"Vertical mixing\" means any vertical transport other than by advection and parameterized eddy advection, represented by a combination of vertical diffusion, turbulent mixing and convection in ocean models. Sea water salinity is the salt content of sea water, often on the Practical Salinity Scale of 1978. However, the unqualified term \\'salinity\\' is generic and does not necessarily imply any particular method of calculation. The units of salinity are dimensionless and normally given as 1e-3 or 0.001 i.e. parts per thousand. There are standard names for the more precisely defined salinity quantities: sea_water_knudsen_salinity, S_K (used for salinity observations between 1901 and 1966), sea_water_cox_salinity, S_C (used for salinity observations between 1967 and 1977), sea_water_practical_salinity, S_P (used for salinity observations from 1978 to the present day), sea_water_absolute_salinity, S_A, sea_water_preformed_salinity, S_*, and sea_water_reference_salinity. Practical Salinity is reported on the Practical Salinity Scale of 1978 (PSS-78), and is usually based on the electrical conductivity of sea water in observations since the 1960s. Conversion of data between the observed scales follows: S_P = (S_K - 0.03) * (1.80655 / 1.805) and S_P = S_C, however the accuracy of the latter is dependent on whether chlorinity or conductivity was used to determine the S_C value, with this inconsistency driving the development of PSS-78. The more precise standard names should be used where appropriate for both modelled and observed salinities. In particular, the use of sea_water_salinity to describe salinity observations made from 1978 onwards is now deprecated in favor of the term sea_water_practical_salinity which is the salinity quantity stored by national data centers for post-1978 observations. The only exception to this is where the observed salinities are definitely known not to be recorded on the Practical Salinity Scale. The unit \"parts per thousand\" was used for sea_water_knudsen_salinity and sea_water_cox_salinity.'}. 1 validation error for StandardName\n",
      "unit.unit\n",
      "  Value error, your_message Unable to parse: \"1e-3 s-1\" of standard name \"tendency_of_sea_water_salinity_due_to_vertical_mixing\" [type=value_error, input_value='1e-3 s-1', input_type=str]\n",
      "    For further information visit https://errors.pydantic.dev/2.7/v/value_error\n",
      "  warnings.warn(f\"Could not parse {sn}. {e}\", UserWarning)\n",
      "C:\\Users\\matth\\Documents\\GitHub\\ssnolib\\ssnolib\\standard_name_table.py:410: UserWarning: Could not parse {'standardName': 'toa_outgoing_radiance_per_unit_wavenumber', 'unit': 'W m-2 sr-1 (m-1)-1', 'description': '\"toa\" means top of atmosphere. The TOA outgoing radiance is the upwelling radiance, i.e., toward outer space. Radiance is the radiative flux in a particular direction, per unit of solid angle. In accordance with common usage in geophysical disciplines, \"flux\" implies per unit area, called \"flux density\" in physics.'}. 1 validation error for StandardName\n",
      "unit.unit\n",
      "  Value error, your_message Unable to parse: \"W m-2 sr-1 (m-1)-1\" of standard name \"toa_outgoing_radiance_per_unit_wavenumber\" [type=value_error, input_value='W m-2 sr-1 (m-1)-1', input_type=str]\n",
      "    For further information visit https://errors.pydantic.dev/2.7/v/value_error\n",
      "  warnings.warn(f\"Could not parse {sn}. {e}\", UserWarning)\n",
      "C:\\Users\\matth\\Documents\\GitHub\\ssnolib\\ssnolib\\standard_name_table.py:410: UserWarning: Could not parse {'standardName': 'toa_outgoing_radiance_per_unit_wavenumber_mean_within_collocation_scene', 'unit': 'W m-2 sr-1 (m-1)-1', 'description': 'toa_outgoing_radiance_per_unit_wavenumber_mean_within_collocation_scene is an average of observations of the quantity with standard name toa_outgoing_radiance_per_unit_wavenumber from a sensor\\'s adjacent field-of-views within a collocation scene. \"toa\" means top of atmosphere. The TOA outgoing radiance is the upwelling radiance, i.e., toward outer space. Radiance is the radiative flux in a particular direction, per unit of solid angle. In accordance with common usage in geophysical disciplines, \"flux\" implies per unit area, called \"flux density\" in physics. The \"collocation scene\" is a grouping of a sensor\\'s adjacent field-of-views centered on a collocation target. The size of the collocation scene is typically about twice that of the collocation target. The \"collocation target\" is an area on the Earth\\'s surface at which observations from at least two sensors are collected. Its size is defined by the sensor with the largest field-of-view footprint. Two events are deemed to be collocated based on some set of spatial, temporal, and viewing geometry criteria.'}. 1 validation error for StandardName\n",
      "unit.unit\n",
      "  Value error, your_message Unable to parse: \"W m-2 sr-1 (m-1)-1\" of standard name \"toa_outgoing_radiance_per_unit_wavenumber_mean_within_collocation_scene\" [type=value_error, input_value='W m-2 sr-1 (m-1)-1', input_type=str]\n",
      "    For further information visit https://errors.pydantic.dev/2.7/v/value_error\n",
      "  warnings.warn(f\"Could not parse {sn}. {e}\", UserWarning)\n",
      "C:\\Users\\matth\\Documents\\GitHub\\ssnolib\\ssnolib\\standard_name_table.py:410: UserWarning: Could not parse {'standardName': 'toa_outgoing_radiance_per_unit_wavenumber_mean_within_collocation_target', 'unit': 'W m-2 sr-1 (m-1)-1', 'description': 'toa_outgoing_radiance_per_unit_wavenumber_mean_within_collocation_target is an average of observations of the quantity with standard name toa_outgoing_radiance_per_unit_wavenumber from a sensor\\'s adjacent field-of-views within a collocation target. \"toa\" means top of atmosphere. The TOA outgoing radiance is the upwelling radiance, i.e., toward outer space. Radiance is the radiative flux in a particular direction, per unit of solid angle. In accordance with common usage in geophysical disciplines, \"flux\" implies per unit area, called \"flux density\" in physics. The \"collocation target\" is an area on the Earth\\'s surface at which observations from at least two sensors are collected. Its size is defined by the sensor with the largest field-of-view footprint. Two events are deemed to be collocated based on some set of spatial, temporal, and viewing geometry criteria.'}. 1 validation error for StandardName\n",
      "unit.unit\n",
      "  Value error, your_message Unable to parse: \"W m-2 sr-1 (m-1)-1\" of standard name \"toa_outgoing_radiance_per_unit_wavenumber_mean_within_collocation_target\" [type=value_error, input_value='W m-2 sr-1 (m-1)-1', input_type=str]\n",
      "    For further information visit https://errors.pydantic.dev/2.7/v/value_error\n",
      "  warnings.warn(f\"Could not parse {sn}. {e}\", UserWarning)\n",
      "C:\\Users\\matth\\Documents\\GitHub\\ssnolib\\ssnolib\\standard_name_table.py:410: UserWarning: Could not parse {'standardName': 'toa_outgoing_radiance_per_unit_wavenumber_stdev_within_collocation_scene', 'unit': 'W m-2 sr-1 (m-1)-1', 'description': 'toa_outgoing_radiance_per_unit_wavenumber_stdev_within_collocation_scene is the standard deviation of observations of the quantity with standard name toa_outgoing_radiance_per_unit_wavenumber from a sensor\\'s adjacent field-of-views within a collocation scene. \"toa\" means top of atmosphere. The TOA outgoing radiance is the upwelling radiance, i.e., toward outer space. Radiance is the radiative flux in a particular direction, per unit of solid angle. In accordance with common usage in geophysical disciplines, \"flux\" implies per unit area, called \"flux density\" in physics. The \"collocation scene\" is a grouping of a sensor\\'s adjacent field-of-views centered on a collocation target. The size of the collocation scene is typically about twice that of the collocation target. The \"collocation target\" is an area on the Earth\\'s surface at which observations from at least two sensors are collected. Its size is defined by the sensor with the largest field-of-view footprint. Two events are deemed to be collocated based on some set of spatial, temporal, and viewing geometry criteria.'}. 1 validation error for StandardName\n",
      "unit.unit\n",
      "  Value error, your_message Unable to parse: \"W m-2 sr-1 (m-1)-1\" of standard name \"toa_outgoing_radiance_per_unit_wavenumber_stdev_within_collocation_scene\" [type=value_error, input_value='W m-2 sr-1 (m-1)-1', input_type=str]\n",
      "    For further information visit https://errors.pydantic.dev/2.7/v/value_error\n",
      "  warnings.warn(f\"Could not parse {sn}. {e}\", UserWarning)\n",
      "C:\\Users\\matth\\Documents\\GitHub\\ssnolib\\ssnolib\\standard_name_table.py:410: UserWarning: Could not parse {'standardName': 'toa_outgoing_radiance_per_unit_wavenumber_stdev_within_collocation_target', 'unit': 'W m-2 sr-1 (m-1)-1', 'description': 'toa_outgoing_radiance_per_unit_wavenumber_stdev_within_collocation_target is the standard deviation of observations of the quantity with standard name toa_outgoing_radiance_per_unit_wavenumber from a sensor\\'s adjacent field-of-views within a collocation target. \"toa\" means top of atmosphere. The TOA outgoing radiance is the upwelling radiance, i.e., toward outer space. Radiance is the radiative flux in a particular direction, per unit of solid angle. In accordance with common usage in geophysical disciplines, \"flux\" implies per unit area, called \"flux density\" in physics. The \"collocation target\" is an area on the Earth\\'s surface at which observations from at least two sensors are collected. Its size is defined by the sensor with the largest field-of-view footprint. Two events are deemed to be collocated based on some set of spatial, temporal, and viewing geometry criteria.'}. 1 validation error for StandardName\n",
      "unit.unit\n",
      "  Value error, your_message Unable to parse: \"W m-2 sr-1 (m-1)-1\" of standard name \"toa_outgoing_radiance_per_unit_wavenumber_stdev_within_collocation_target\" [type=value_error, input_value='W m-2 sr-1 (m-1)-1', input_type=str]\n",
      "    For further information visit https://errors.pydantic.dev/2.7/v/value_error\n",
      "  warnings.warn(f\"Could not parse {sn}. {e}\", UserWarning)\n"
     ]
    }
   ],
   "source": [
    "snt = ssnolib.StandardNameTable.parse(snt.distribution[0], make_standard_names_lowercase=True, qudt_lookup=additional_qudts)"
   ]
  },
  {
   "cell_type": "code",
   "execution_count": 23,
   "id": "3e003f97-de6f-4116-9a25-10fab90cd8b3",
   "metadata": {},
   "outputs": [
    {
     "data": {
      "text/plain": [
       "WindowsPath('tmp/cf-standard-name-table.html')"
      ]
     },
     "execution_count": 23,
     "metadata": {},
     "output_type": "execute_result"
    }
   ],
   "source": [
    "snt.to_html(folder=\"tmp\")"
   ]
  },
  {
   "cell_type": "markdown",
   "id": "089e90b6-176b-48fe-b0dd-f0e3c1a5cf83",
   "metadata": {},
   "source": [
    "Write to JSON-LD file:"
   ]
  },
  {
   "cell_type": "code",
   "execution_count": 24,
   "id": "2c1ab39c-d30d-4dbb-a1b6-94306192787c",
   "metadata": {},
   "outputs": [],
   "source": [
    "with open(f\"tmp/{snt.title}.jsonld\", \"w\", encoding=\"utf-8\") as f:\n",
    "    f.write(snt.model_dump_jsonld())"
   ]
  },
  {
   "cell_type": "markdown",
   "id": "7d89f2ba-fa2f-442b-9376-899226ae914d",
   "metadata": {},
   "source": [
    "Instantiate a Standard name table from a JSON-LD:"
   ]
  },
  {
   "cell_type": "code",
   "execution_count": 25,
   "id": "df48b63f-f1bc-4299-be90-4fd267870243",
   "metadata": {},
   "outputs": [
    {
     "name": "stdout",
     "output_type": "stream",
     "text": [
      "   1: {'id': '_:Nb433bdd27d7a4edeaa9ae4900466f17f', 'agent': {'id': '_:Nb42f28f54e9b43c2ae0d52adf56925c4', 'mbox': 'support@ceda.ac.uk', 'name': 'Centre for Environmental Data Analysis'}}\n"
     ]
    }
   ],
   "source": [
    "snt = ssnolib.parse_table(f\"tmp/{snt.title}.jsonld\")"
   ]
  },
  {
   "cell_type": "code",
   "execution_count": null,
   "id": "ced83081-66c1-4e33-ae89-d4b0580a6a2f",
   "metadata": {},
   "outputs": [],
   "source": []
  }
 ],
 "metadata": {
  "kernelspec": {
   "display_name": "Python 3 (ipykernel)",
   "language": "python",
   "name": "python3"
  },
  "language_info": {
   "codemirror_mode": {
    "name": "ipython",
    "version": 3
   },
   "file_extension": ".py",
   "mimetype": "text/x-python",
   "name": "python",
   "nbconvert_exporter": "python",
   "pygments_lexer": "ipython3",
   "version": "3.8.19"
  }
 },
 "nbformat": 4,
 "nbformat_minor": 5
}
