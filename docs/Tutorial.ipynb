{
 "cells": [
  {
   "cell_type": "markdown",
   "id": "17f53ee4-59c1-41b3-95e5-4a0745288a67",
   "metadata": {},
   "source": [
    "# Tutorial\n",
    "\n",
    "Welcome the `ssnolib`-Tutorial. You will learn:\n",
    "- [How to create a standard name table from scratch](./tutorials/StandardnameTable.ipynb)\n",
    "- [Work with standard names](./tutorials/StandardName.ipynb)\n",
    "- [Define rules for the creating standard names](./tutorials/Qualifications.ipynb)"
   ]
  },
  {
   "cell_type": "code",
   "execution_count": null,
   "id": "dccc2ea1-86db-40bb-91b6-85359b72c72e",
   "metadata": {},
   "outputs": [],
   "source": []
  }
 ],
 "metadata": {
  "kernelspec": {
   "display_name": "Python 3 (ipykernel)",
   "language": "python",
   "name": "python3"
  },
  "language_info": {
   "codemirror_mode": {
    "name": "ipython",
    "version": 3
   },
   "file_extension": ".py",
   "mimetype": "text/x-python",
   "name": "python",
   "nbconvert_exporter": "python",
   "pygments_lexer": "ipython3",
   "version": "3.8.19"
  }
 },
 "nbformat": 4,
 "nbformat_minor": 5
}
