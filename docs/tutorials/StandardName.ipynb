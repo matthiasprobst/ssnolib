{
 "cells": [
  {
   "cell_type": "markdown",
   "id": "0694f7a3-0067-430c-809b-356296f40df7",
   "metadata": {},
   "source": [
    "# Standard Name"
   ]
  },
  {
   "cell_type": "code",
   "execution_count": 1,
   "id": "4ea80d82-7157-4d6f-b86d-ea8735353447",
   "metadata": {},
   "outputs": [],
   "source": [
    "import ssnolib"
   ]
  },
  {
   "cell_type": "markdown",
   "id": "4ba9ae64-28d0-49e3-90af-615354333769",
   "metadata": {},
   "source": [
    "## Create a standard name\n",
    "\n",
    "As a minimum, `standard_name`, `canonical_units` and `definition` must be provided. You can also assign the standard name table, it is associated with. Let's start with the core properties, though:"
   ]
  },
  {
   "cell_type": "code",
   "execution_count": 2,
   "id": "90e8645c-e92c-4dc9-80c2-0878d95ae1bd",
   "metadata": {},
   "outputs": [],
   "source": [
    "sn = ssnolib.StandardName(\n",
    "    standardName='x_velocity',\n",
    "    unit='m/s',\n",
    "    definition='The velocity in x-axis direction'\n",
    ")"
   ]
  },
  {
   "cell_type": "markdown",
   "id": "38a434b1-5db5-4fee-b9f5-f22f55882c0a",
   "metadata": {},
   "source": [
    "We automatically get an ID assigned, with is a blank URI:"
   ]
  },
  {
   "cell_type": "code",
   "execution_count": 3,
   "id": "3aa16432-872d-4ace-b100-107f14f5f063",
   "metadata": {},
   "outputs": [
    {
     "data": {
      "text/html": [
       "StandardName(id=_:N9d759ea49401451ebffe9fcdec8434a0, definition=The velocity in x-axis direction, standardName=x_velocity, unit=http://qudt.org/vocab/unit/M-PER-SEC)"
      ],
      "text/plain": [
       "StandardName(id=_:N9d759ea49401451ebffe9fcdec8434a0, definition=The velocity in x-axis direction, standardName=x_velocity, unit=http://qudt.org/vocab/unit/M-PER-SEC)"
      ]
     },
     "execution_count": 3,
     "metadata": {},
     "output_type": "execute_result"
    }
   ],
   "source": [
    "sn"
   ]
  },
  {
   "cell_type": "markdown",
   "id": "9aed31d9-b0bc-4004-80c5-cc6277f71dfa",
   "metadata": {},
   "source": [
    "## Aliases"
   ]
  },
  {
   "cell_type": "markdown",
   "id": "5a839249-e4d4-4e73-a031-e62f44f22178",
   "metadata": {},
   "source": [
    "Note, that we used the field names according to the URI of the ontology. E.g. we used \"standardName\" for \"https://matthiasprobst.github.io/ssno#standardName\" and \"unit\" for \"\"https://matthiasprobst.github.io/ssno#unit\". However, this is unusual syntax for *pythonic* naming. In Python, we prefer using lowercase with underscores (snake_case) for variable names, whereas the ontology preferred camelCase. As The Python object connects both worlds, both versions are allowed to be used interchangible:"
   ]
  },
  {
   "cell_type": "code",
   "execution_count": 4,
   "id": "b8b9423d-2e96-40fb-a8ea-53195e01ea76",
   "metadata": {},
   "outputs": [
    {
     "data": {
      "text/html": [
       "StandardName(id=_:N0c5e366c67af4e988b6435bd3ba3e456, definition=The velocity in x-axis direction, standardName=x_velocity, unit=http://qudt.org/vocab/unit/M-PER-SEC)"
      ],
      "text/plain": [
       "StandardName(id=_:N0c5e366c67af4e988b6435bd3ba3e456, definition=The velocity in x-axis direction, standardName=x_velocity, unit=http://qudt.org/vocab/unit/M-PER-SEC)"
      ]
     },
     "execution_count": 4,
     "metadata": {},
     "output_type": "execute_result"
    }
   ],
   "source": [
    "sn = ssnolib.StandardName(\n",
    "    standard_name='x_velocity',\n",
    "    unit='m/s',\n",
    "    definition='The velocity in x-axis direction'\n",
    ")\n",
    "sn"
   ]
  },
  {
   "cell_type": "markdown",
   "id": "05485515-768b-4121-917a-3d4a0c1adae6",
   "metadata": {},
   "source": [
    "Side note: Invalid fields are not allowed and are reported:"
   ]
  },
  {
   "cell_type": "code",
   "execution_count": 5,
   "id": "f4efa3a8-7bf8-482f-9336-947c6b3eaf27",
   "metadata": {},
   "outputs": [
    {
     "name": "stdout",
     "output_type": "stream",
     "text": [
      "2 validation errors for StandardName\n",
      "standard_name\n",
      "  Field required [type=missing, input_value={'name': 'x_velocity', 'u...ty in x-axis direction'}, input_type=dict]\n",
      "    For further information visit https://errors.pydantic.dev/2.9/v/missing\n",
      "unit\n",
      "  Field required [type=missing, input_value={'name': 'x_velocity', 'u...ty in x-axis direction'}, input_type=dict]\n",
      "    For further information visit https://errors.pydantic.dev/2.9/v/missing\n"
     ]
    }
   ],
   "source": [
    "import pydantic\n",
    "try:\n",
    "    sn = ssnolib.StandardName(\n",
    "        name='x_velocity',\n",
    "        units='m/s',\n",
    "        definition='The velocity in x-axis direction'\n",
    "    )\n",
    "except pydantic.ValidationError as e:\n",
    "    print(e)"
   ]
  },
  {
   "cell_type": "markdown",
   "id": "115aff9a-1a8a-4287-8869-402153674685",
   "metadata": {},
   "source": [
    "## Validation\n",
    "\n",
    "Fields are validated by their types and sometimes downstream validator functions. This means, that it is not possible to assign an integer to the definition. The standard name is validated mostly using regex. The units value is translated to a URI using the [QUDT](https://qudt.org/) ontology. Here are some examples:"
   ]
  },
  {
   "cell_type": "code",
   "execution_count": 6,
   "id": "d83f0d1a-37ef-4596-95a2-d68a80707ed9",
   "metadata": {},
   "outputs": [
    {
     "name": "stdout",
     "output_type": "stream",
     "text": [
      "2 validation errors for StandardName\n",
      "definition\n",
      "  Input should be a valid string [type=string_type, input_value=123, input_type=int]\n",
      "    For further information visit https://errors.pydantic.dev/2.9/v/string_type\n",
      "unit\n",
      "  Field required [type=missing, input_value={'standard_name': 'x_velo...m/s', 'definition': 123}, input_type=dict]\n",
      "    For further information visit https://errors.pydantic.dev/2.9/v/missing\n"
     ]
    }
   ],
   "source": [
    "# Wrong type for definition:\n",
    "try:\n",
    "    sn = ssnolib.StandardName(\n",
    "        standard_name='x_velocity',\n",
    "        canonical_units='m/s',\n",
    "        definition=123\n",
    "    )\n",
    "except pydantic.ValidationError as e:\n",
    "    print(e)"
   ]
  },
  {
   "cell_type": "code",
   "execution_count": 7,
   "id": "d83e315a-bc4e-4665-9fac-dfacc0ee60c2",
   "metadata": {},
   "outputs": [
    {
     "name": "stdout",
     "output_type": "stream",
     "text": [
      "2 validation errors for StandardName\n",
      "standard_name\n",
      "  Value error, Invalid standard name 'X_velocity_' according to the core pattern '^[a-z0-9]+(?:_[a-z0-9]+)*$'. [type=value_error, input_value='X_velocity_', input_type=str]\n",
      "    For further information visit https://errors.pydantic.dev/2.9/v/value_error\n",
      "unit\n",
      "  Field required [type=missing, input_value={'standard_name': 'X_velo...'invalid standard name'}, input_type=dict]\n",
      "    For further information visit https://errors.pydantic.dev/2.9/v/missing\n"
     ]
    }
   ],
   "source": [
    "# Incorrect standard name that does not match the basic pattern:\n",
    "try:\n",
    "    sn = ssnolib.StandardName(\n",
    "        standard_name='X_velocity_',\n",
    "        canonical_units='m/s',\n",
    "        definition=\"invalid standard name\"\n",
    "    )\n",
    "except pydantic.ValidationError as e:\n",
    "    print(e)"
   ]
  },
  {
   "cell_type": "code",
   "execution_count": 8,
   "id": "3ef6eb35-bd80-40a2-a21f-17e8e69acf33",
   "metadata": {},
   "outputs": [
    {
     "name": "stdout",
     "output_type": "stream",
     "text": [
      "1 validation error for StandardName\n",
      "unit\n",
      "  Field required [type=missing, input_value={'standard_name': 'x_velo...'invalid standard name'}, input_type=dict]\n",
      "    For further information visit https://errors.pydantic.dev/2.9/v/missing\n"
     ]
    }
   ],
   "source": [
    "# Cannot parse unit\n",
    "try:\n",
    "    sn = ssnolib.StandardName(\n",
    "        standard_name='x_velocity',\n",
    "        canonical_units='meterprosec',\n",
    "        definition=\"invalid standard name\"\n",
    "    )\n",
    "except pydantic.ValidationError as e:\n",
    "    print(e)"
   ]
  },
  {
   "cell_type": "markdown",
   "id": "20887de4-dc48-4f45-b5cc-495655898431",
   "metadata": {},
   "source": [
    "## Representations\n",
    "\n",
    "A standard name object can be represented in various formats\n",
    "\n",
    "### String"
   ]
  },
  {
   "cell_type": "markdown",
   "id": "e18cc757-b466-4aaa-b6ff-d4189f5f9c52",
   "metadata": {},
   "source": [
    "The string-representation is the standard (string) name, hence \"x_velocity\""
   ]
  },
  {
   "cell_type": "code",
   "execution_count": 9,
   "id": "d8ec210b-32c5-4e96-a988-908d35f9af2a",
   "metadata": {},
   "outputs": [
    {
     "data": {
      "text/plain": [
       "'x_velocity'"
      ]
     },
     "execution_count": 9,
     "metadata": {},
     "output_type": "execute_result"
    }
   ],
   "source": [
    "str(sn)"
   ]
  },
  {
   "cell_type": "markdown",
   "id": "4cc3fe47-6707-4b4a-9a4e-2a190e724557",
   "metadata": {},
   "source": [
    "## JSON-LD"
   ]
  },
  {
   "cell_type": "code",
   "execution_count": 10,
   "id": "ae3a9df3-b98d-4f3b-9afd-85d4b65bb9a4",
   "metadata": {},
   "outputs": [
    {
     "name": "stdout",
     "output_type": "stream",
     "text": [
      "{\n",
      "    \"@context\": {\n",
      "        \"owl\": \"http://www.w3.org/2002/07/owl#\",\n",
      "        \"rdfs\": \"http://www.w3.org/2000/01/rdf-schema#\",\n",
      "        \"dcterms\": \"http://purl.org/dc/terms/\",\n",
      "        \"skos\": \"http://www.w3.org/2004/02/skos/core#\",\n",
      "        \"ssno\": \"https://matthiasprobst.github.io/ssno#\",\n",
      "        \"dcat\": \"http://www.w3.org/ns/dcat#\"\n",
      "    },\n",
      "    \"@type\": \"ssno:StandardName\",\n",
      "    \"skos:definition\": \"The velocity in x-axis direction\",\n",
      "    \"ssno:standardName\": \"x_velocity\",\n",
      "    \"ssno:unit\": \"http://qudt.org/vocab/unit/M-PER-SEC\",\n",
      "    \"@id\": \"_:N0c5e366c67af4e988b6435bd3ba3e456\"\n",
      "}\n"
     ]
    }
   ],
   "source": [
    "print(sn.model_dump_jsonld())"
   ]
  }
 ],
 "metadata": {
  "kernelspec": {
   "display_name": "Python 3 (ipykernel)",
   "language": "python",
   "name": "python3"
  },
  "language_info": {
   "codemirror_mode": {
    "name": "ipython",
    "version": 3
   },
   "file_extension": ".py",
   "mimetype": "text/x-python",
   "name": "python",
   "nbconvert_exporter": "python",
   "pygments_lexer": "ipython3",
   "version": "3.8.19"
  }
 },
 "nbformat": 4,
 "nbformat_minor": 5
}
