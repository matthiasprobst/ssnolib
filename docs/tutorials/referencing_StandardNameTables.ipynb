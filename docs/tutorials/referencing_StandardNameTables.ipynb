{
 "cells": [
  {
   "cell_type": "markdown",
   "id": "a188d65b-f5c3-405f-a051-de5585312b4e",
   "metadata": {},
   "source": [
    "# Referencing Standard Name Tables\n",
    "\n",
    "There are multiple ways of associating tables to other objects such as a project or an HDF5 file"
   ]
  },
  {
   "cell_type": "code",
   "execution_count": 1,
   "id": "9916f965-732f-4f14-b8fd-c829b6178f6c",
   "metadata": {},
   "outputs": [],
   "source": [
    "import ssnolib"
   ]
  },
  {
   "cell_type": "markdown",
   "id": "4b118d9a-4439-4039-9083-e87ebb9b02a8",
   "metadata": {},
   "source": [
    "## Referencing to a Project\n",
    "\n",
    "The vocabulary/ontology classes we want to reference to are `schema:Project` or `schema:ResearchProject`\n",
    "\n",
    "In this example, we want to describe a Standard Name Table, which has been published on [Zenodo](https://zenodo.org/).\n",
    "\n",
    "In fact, this is very simple, because it does *not* require the `SSNO` ontology but rather the `DCAT` vocabulary. However, the `ssnolib` library provides the necessary classes.\n",
    "\n",
    "Later, by associating a *thing*, e.g. a project or an HDF5 file, we will use `ssno:usesStandardNameTable`, which may point to either `ssno:StandardNameTable` or the `dcat:Dataset` we define below."
   ]
  },
  {
   "cell_type": "code",
   "execution_count": 2,
   "id": "de63248d-0c60-431d-9555-1c4a13317c62",
   "metadata": {},
   "outputs": [],
   "source": [
    "snt_dist = ssnolib.dcat.Distribution(\n",
    "    downloadURL=\"https://sandbox.zenodo.org/records/123202/files/Standard_Name_Table_for_the_Property_Descriptions_of_Centrifugal_Fans.jsonld\",\n",
    "    media_type=\"application/json+ld\"\n",
    ")"
   ]
  },
  {
   "cell_type": "code",
   "execution_count": 3,
   "id": "5a595e23-4039-4075-9b2c-6c093a2552ac",
   "metadata": {},
   "outputs": [],
   "source": [
    "dataset = ssnolib.dcat.Dataset(\n",
    "    identifier=\"https://sandbox.zenodo.org/uploads/123202\",\n",
    "    distribution=snt_dist\n",
    ")"
   ]
  },
  {
   "cell_type": "code",
   "execution_count": 4,
   "id": "995e0b77-604d-4c4a-88d0-dd00918b2cb2",
   "metadata": {},
   "outputs": [
    {
     "name": "stdout",
     "output_type": "stream",
     "text": [
      "@prefix dcat: <http://www.w3.org/ns/dcat#> .\n",
      "@prefix dcterms: <http://purl.org/dc/terms/> .\n",
      "\n",
      "<https://sandbox.zenodo.org/uploads/123202> a dcat:Dataset ;\n",
      "    dcterms:identifier <https://sandbox.zenodo.org/uploads/123202> ;\n",
      "    dcat:distribution [ a dcat:Distribution ;\n",
      "            dcat:downloadURL <https://sandbox.zenodo.org/records/123202/files/Standard_Name_Table_for_the_Property_Descriptions_of_Centrifugal_Fans.jsonld> ;\n",
      "            dcat:mediaType <https://www.iana.org/assignments/media-types/application/json+ld> ] .\n",
      "\n",
      "\n"
     ]
    }
   ],
   "source": [
    "print(dataset.model_dump_ttl())"
   ]
  },
  {
   "cell_type": "markdown",
   "id": "996e6b08-32f1-42ed-a4f5-7f3898d427c8",
   "metadata": {},
   "source": [
    "Now let's associate a Project with a standard name table file published on Zenodo:"
   ]
  },
  {
   "cell_type": "code",
   "execution_count": 5,
   "id": "df870153-0d8b-47dc-94d2-c719df77cb1f",
   "metadata": {},
   "outputs": [],
   "source": [
    "from ssnolib.schema import Project, ResearchProject"
   ]
  },
  {
   "cell_type": "code",
   "execution_count": 6,
   "id": "1ae388bb-f33e-463c-9199-3311aa3a387a",
   "metadata": {},
   "outputs": [],
   "source": [
    "proj = Project(name=\"My Project\", usesStandardnameTable=dataset)\n",
    "research_proj = ResearchProject(name=\"My Project\", usesStandardnameTable=dataset)"
   ]
  },
  {
   "cell_type": "code",
   "execution_count": 7,
   "id": "8f8d03b5-0b3b-4d78-b4ff-643d6016514e",
   "metadata": {},
   "outputs": [
    {
     "name": "stdout",
     "output_type": "stream",
     "text": [
      "@prefix dcat: <http://www.w3.org/ns/dcat#> .\n",
      "@prefix dcterms: <http://purl.org/dc/terms/> .\n",
      "@prefix schema: <https://schema.org/> .\n",
      "@prefix ssno: <https://matthiasprobst.github.io/ssno#> .\n",
      "\n",
      "<https://sandbox.zenodo.org/uploads/123202> a dcat:Dataset ;\n",
      "    dcterms:identifier <https://sandbox.zenodo.org/uploads/123202> ;\n",
      "    dcat:distribution [ a dcat:Distribution ;\n",
      "            dcat:downloadURL <https://sandbox.zenodo.org/records/123202/files/Standard_Name_Table_for_the_Property_Descriptions_of_Centrifugal_Fans.jsonld> ;\n",
      "            dcat:mediaType <https://www.iana.org/assignments/media-types/application/json+ld> ] .\n",
      "\n",
      "[] a schema:Project ;\n",
      "    ssno:usesStandardnameTable <https://sandbox.zenodo.org/uploads/123202> ;\n",
      "    schema:name \"My Project\" .\n",
      "\n",
      "\n"
     ]
    }
   ],
   "source": [
    "print(proj.model_dump_ttl())"
   ]
  },
  {
   "cell_type": "markdown",
   "id": "91bef358-6b77-44cc-bdce-101884af4a14",
   "metadata": {},
   "source": [
    "## Referencing to an HDF5 file\n",
    "\n",
    "We use the ontology http://purl.allotrope.org/ontologies/hdf5/1.8# to reference the table to a `hdf5:File`"
   ]
  },
  {
   "cell_type": "code",
   "execution_count": 8,
   "id": "2d553bfb-cc39-4472-8628-fbb5248cf6a3",
   "metadata": {},
   "outputs": [],
   "source": [
    "from ssnolib import hdf5"
   ]
  },
  {
   "cell_type": "code",
   "execution_count": 9,
   "id": "863af1c3-b181-4fbc-8fe4-ee9b4e591a70",
   "metadata": {},
   "outputs": [],
   "source": [
    "file = hdf5.File(uses_standard_name_table=dataset)"
   ]
  },
  {
   "cell_type": "code",
   "execution_count": 10,
   "id": "e35bebe7-622c-4dd4-8187-4e5c74f688e6",
   "metadata": {},
   "outputs": [
    {
     "name": "stdout",
     "output_type": "stream",
     "text": [
      "@prefix dcat: <http://www.w3.org/ns/dcat#> .\n",
      "@prefix dcterms: <http://purl.org/dc/terms/> .\n",
      "@prefix hdf5: <http://purl.allotrope.org/ontologies/hdf5/1.8#> .\n",
      "\n",
      "<https://sandbox.zenodo.org/uploads/123202> a dcat:Dataset ;\n",
      "    dcterms:identifier <https://sandbox.zenodo.org/uploads/123202> ;\n",
      "    dcat:distribution [ a dcat:Distribution ;\n",
      "            dcat:downloadURL <https://sandbox.zenodo.org/records/123202/files/Standard_Name_Table_for_the_Property_Descriptions_of_Centrifugal_Fans.jsonld> ;\n",
      "            dcat:mediaType <https://www.iana.org/assignments/media-types/application/json+ld> ] .\n",
      "\n",
      "[] a hdf5:File ;\n",
      "    hdf5:usesStandardNameTable <https://sandbox.zenodo.org/uploads/123202> .\n",
      "\n",
      "\n"
     ]
    }
   ],
   "source": [
    "print(file.model_dump_ttl())"
   ]
  },
  {
   "cell_type": "code",
   "execution_count": null,
   "id": "c36209d4-5869-4119-a8b9-1a591a505a9c",
   "metadata": {},
   "outputs": [],
   "source": []
  }
 ],
 "metadata": {
  "kernelspec": {
   "display_name": "Python 3 (ipykernel)",
   "language": "python",
   "name": "python3"
  },
  "language_info": {
   "codemirror_mode": {
    "name": "ipython",
    "version": 3
   },
   "file_extension": ".py",
   "mimetype": "text/x-python",
   "name": "python",
   "nbconvert_exporter": "python",
   "pygments_lexer": "ipython3",
   "version": "3.11.11"
  }
 },
 "nbformat": 4,
 "nbformat_minor": 5
}
