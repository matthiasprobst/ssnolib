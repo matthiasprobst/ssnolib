{
 "cells": [
  {
   "cell_type": "markdown",
   "id": "a188d65b-f5c3-405f-a051-de5585312b4e",
   "metadata": {},
   "source": [
    "# Describe a published a Standard Name Table\n",
    "\n",
    "In this example, we want to describe a Standard Name Table, which has been published on Zenodo."
   ]
  },
  {
   "cell_type": "code",
   "execution_count": 1,
   "id": "9916f965-732f-4f14-b8fd-c829b6178f6c",
   "metadata": {},
   "outputs": [],
   "source": [
    "import ssnolib"
   ]
  },
  {
   "cell_type": "code",
   "execution_count": 7,
   "id": "5a595e23-4039-4075-9b2c-6c093a2552ac",
   "metadata": {},
   "outputs": [
    {
     "name": "stdout",
     "output_type": "stream",
     "text": [
      "{\n",
      "    \"@context\": {\n",
      "        \"owl\": \"http://www.w3.org/2002/07/owl#\",\n",
      "        \"rdfs\": \"http://www.w3.org/2000/01/rdf-schema#\",\n",
      "        \"dcat\": \"http://www.w3.org/ns/dcat#\",\n",
      "        \"dcterms\": \"http://purl.org/dc/terms/\"\n",
      "    },\n",
      "    \"@type\": \"dcat:Distribution\",\n",
      "    \"dcat:downloadURL\": \"https://sandbox.zenodo.org/records/123202/files/Standard_Name_Table_for_the_Property_Descriptions_of_Centrifugal_Fans.jsonld\",\n",
      "    \"@id\": \"_:Nfcecf2f173ca434b9589202afda47d2a\"\n",
      "}\n"
     ]
    }
   ],
   "source": [
    "distribution = ssnolib.dcat.Distribution(\n",
    "    downloadURL=\"https://sandbox.zenodo.org/records/123202/files/Standard_Name_Table_for_the_Property_Descriptions_of_Centrifugal_Fans.jsonld\"\n",
    ")\n",
    "print(distribution.model_dump_jsonld())"
   ]
  },
  {
   "cell_type": "code",
   "execution_count": 2,
   "id": "3c6ad8ab-ea74-42ef-b9e8-1643ad1983b8",
   "metadata": {},
   "outputs": [],
   "source": [
    "snt = ssnolib.StandardNameTable(\n",
    "    \n",
    ")"
   ]
  },
  {
   "cell_type": "code",
   "execution_count": 4,
   "id": "8f8d03b5-0b3b-4d78-b4ff-643d6016514e",
   "metadata": {},
   "outputs": [
    {
     "data": {
      "text/html": [
       "StandardNameTable(id=_:Nbc46e12e45444abcae33955125c89a31, standardNames=[])"
      ],
      "text/plain": [
       "StandardNameTable(id=_:Nbc46e12e45444abcae33955125c89a31, standardNames=[])"
      ]
     },
     "execution_count": 4,
     "metadata": {},
     "output_type": "execute_result"
    }
   ],
   "source": [
    "snt"
   ]
  },
  {
   "cell_type": "code",
   "execution_count": null,
   "id": "ad32354d-55da-495a-8775-bbeb3f95f69c",
   "metadata": {},
   "outputs": [],
   "source": []
  }
 ],
 "metadata": {
  "kernelspec": {
   "display_name": "Python 3 (ipykernel)",
   "language": "python",
   "name": "python3"
  },
  "language_info": {
   "codemirror_mode": {
    "name": "ipython",
    "version": 3
   },
   "file_extension": ".py",
   "mimetype": "text/x-python",
   "name": "python",
   "nbconvert_exporter": "python",
   "pygments_lexer": "ipython3",
   "version": "3.8.19"
  }
 },
 "nbformat": 4,
 "nbformat_minor": 5
}
